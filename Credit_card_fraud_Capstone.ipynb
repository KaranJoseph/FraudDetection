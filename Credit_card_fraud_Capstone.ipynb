{
 "cells": [
  {
   "cell_type": "markdown",
   "metadata": {},
   "source": [
    "# Credit Card Fraud Detection\n",
    "\n",
    "### Problem Statement\n",
    "\n",
    "Banking fraud is defined as any dishonest act or behavior to obtain privileged banking information without authorization from the user for monetary gain. \n",
    "\n",
    "Retaining profitable customers takes the top priority for most banks and credit card fraud is a significant threat to this goal. The rise in digital payment platforms is leading to an exorbitant rise in fraudulent transactions that threaten the sanctity of these banks and the trust of customers. Thereby, credit card fraud detection using machine learning is not just a trend but a necessity to proactively monitor and deter its occurrence. \n",
    "\n",
    "### Approach\n",
    "The dataset used in this study contains credit card transactions for September 2013 by several European cardholders. The dataset, however, is heavily unbalanced; only 0.172% of all transactions are classified as fraud and its features had been transformed using PCA to protect classified information, leaving only amount and time fields as it is. \n",
    "\n",
    "The objective of the study is to create a model using the given dataset that best identifies fraudulent transactions.\n",
    "\n",
    "Steps:\n",
    "1.\tData pre-processing and Exploratory Data Analysis\n",
    "2.\tModel Building\n",
    "3.\tModel Evaluation\n"
   ]
  },
  {
   "cell_type": "code",
   "execution_count": 1,
   "metadata": {},
   "outputs": [
    {
     "data": {
      "application/javascript": [
       "IPython.OutputArea.prototype._should_scroll = function(lines) {\n",
       "    return false;\n",
       "}\n"
      ],
      "text/plain": [
       "<IPython.core.display.Javascript object>"
      ]
     },
     "metadata": {},
     "output_type": "display_data"
    }
   ],
   "source": [
    "%%javascript\n",
    "IPython.OutputArea.prototype._should_scroll = function(lines) {\n",
    "    return false;\n",
    "}"
   ]
  },
  {
   "cell_type": "code",
   "execution_count": 2,
   "metadata": {
    "colab": {
     "base_uri": "https://localhost:8080/",
     "height": 70
    },
    "colab_type": "code",
    "id": "X4Qe78b6wP_9",
    "outputId": "f3d167e1-1876-4220-d2a1-08938d8522ae",
    "scrolled": true
   },
   "outputs": [],
   "source": [
    "#import all the necessary libraries\n",
    "import numpy as np\n",
    "import pandas as pd\n",
    "\n",
    "import matplotlib.pyplot as plt\n",
    "%matplotlib inline\n",
    "import seaborn as sns\n",
    "\n",
    "from sklearn import metrics\n",
    "from sklearn import preprocessing\n",
    "\n",
    "import warnings\n",
    "warnings.filterwarnings('ignore')\n",
    "pd.set_option('display.max_rows',None)\n",
    "pd.set_option('display.max_columns',None)\n"
   ]
  },
  {
   "cell_type": "code",
   "execution_count": 3,
   "metadata": {
    "colab": {
     "base_uri": "https://localhost:8080/",
     "height": 215
    },
    "colab_type": "code",
    "id": "jfTyotcBwQAH",
    "outputId": "8691467a-1291-4d1c-b3f9-421e847c8a2e",
    "scrolled": true
   },
   "outputs": [
    {
     "data": {
      "text/html": [
       "<div>\n",
       "<style scoped>\n",
       "    .dataframe tbody tr th:only-of-type {\n",
       "        vertical-align: middle;\n",
       "    }\n",
       "\n",
       "    .dataframe tbody tr th {\n",
       "        vertical-align: top;\n",
       "    }\n",
       "\n",
       "    .dataframe thead th {\n",
       "        text-align: right;\n",
       "    }\n",
       "</style>\n",
       "<table border=\"1\" class=\"dataframe\">\n",
       "  <thead>\n",
       "    <tr style=\"text-align: right;\">\n",
       "      <th></th>\n",
       "      <th>Time</th>\n",
       "      <th>V1</th>\n",
       "      <th>V2</th>\n",
       "      <th>V3</th>\n",
       "      <th>V4</th>\n",
       "      <th>V5</th>\n",
       "      <th>V6</th>\n",
       "      <th>V7</th>\n",
       "      <th>V8</th>\n",
       "      <th>V9</th>\n",
       "      <th>V10</th>\n",
       "      <th>V11</th>\n",
       "      <th>V12</th>\n",
       "      <th>V13</th>\n",
       "      <th>V14</th>\n",
       "      <th>V15</th>\n",
       "      <th>V16</th>\n",
       "      <th>V17</th>\n",
       "      <th>V18</th>\n",
       "      <th>V19</th>\n",
       "      <th>V20</th>\n",
       "      <th>V21</th>\n",
       "      <th>V22</th>\n",
       "      <th>V23</th>\n",
       "      <th>V24</th>\n",
       "      <th>V25</th>\n",
       "      <th>V26</th>\n",
       "      <th>V27</th>\n",
       "      <th>V28</th>\n",
       "      <th>Amount</th>\n",
       "      <th>Class</th>\n",
       "    </tr>\n",
       "  </thead>\n",
       "  <tbody>\n",
       "    <tr>\n",
       "      <th>0</th>\n",
       "      <td>0.0</td>\n",
       "      <td>-1.359807</td>\n",
       "      <td>-0.072781</td>\n",
       "      <td>2.536347</td>\n",
       "      <td>1.378155</td>\n",
       "      <td>-0.338321</td>\n",
       "      <td>0.462388</td>\n",
       "      <td>0.239599</td>\n",
       "      <td>0.098698</td>\n",
       "      <td>0.363787</td>\n",
       "      <td>0.090794</td>\n",
       "      <td>-0.551600</td>\n",
       "      <td>-0.617801</td>\n",
       "      <td>-0.991390</td>\n",
       "      <td>-0.311169</td>\n",
       "      <td>1.468177</td>\n",
       "      <td>-0.470401</td>\n",
       "      <td>0.207971</td>\n",
       "      <td>0.025791</td>\n",
       "      <td>0.403993</td>\n",
       "      <td>0.251412</td>\n",
       "      <td>-0.018307</td>\n",
       "      <td>0.277838</td>\n",
       "      <td>-0.110474</td>\n",
       "      <td>0.066928</td>\n",
       "      <td>0.128539</td>\n",
       "      <td>-0.189115</td>\n",
       "      <td>0.133558</td>\n",
       "      <td>-0.021053</td>\n",
       "      <td>149.62</td>\n",
       "      <td>0</td>\n",
       "    </tr>\n",
       "    <tr>\n",
       "      <th>1</th>\n",
       "      <td>0.0</td>\n",
       "      <td>1.191857</td>\n",
       "      <td>0.266151</td>\n",
       "      <td>0.166480</td>\n",
       "      <td>0.448154</td>\n",
       "      <td>0.060018</td>\n",
       "      <td>-0.082361</td>\n",
       "      <td>-0.078803</td>\n",
       "      <td>0.085102</td>\n",
       "      <td>-0.255425</td>\n",
       "      <td>-0.166974</td>\n",
       "      <td>1.612727</td>\n",
       "      <td>1.065235</td>\n",
       "      <td>0.489095</td>\n",
       "      <td>-0.143772</td>\n",
       "      <td>0.635558</td>\n",
       "      <td>0.463917</td>\n",
       "      <td>-0.114805</td>\n",
       "      <td>-0.183361</td>\n",
       "      <td>-0.145783</td>\n",
       "      <td>-0.069083</td>\n",
       "      <td>-0.225775</td>\n",
       "      <td>-0.638672</td>\n",
       "      <td>0.101288</td>\n",
       "      <td>-0.339846</td>\n",
       "      <td>0.167170</td>\n",
       "      <td>0.125895</td>\n",
       "      <td>-0.008983</td>\n",
       "      <td>0.014724</td>\n",
       "      <td>2.69</td>\n",
       "      <td>0</td>\n",
       "    </tr>\n",
       "    <tr>\n",
       "      <th>2</th>\n",
       "      <td>1.0</td>\n",
       "      <td>-1.358354</td>\n",
       "      <td>-1.340163</td>\n",
       "      <td>1.773209</td>\n",
       "      <td>0.379780</td>\n",
       "      <td>-0.503198</td>\n",
       "      <td>1.800499</td>\n",
       "      <td>0.791461</td>\n",
       "      <td>0.247676</td>\n",
       "      <td>-1.514654</td>\n",
       "      <td>0.207643</td>\n",
       "      <td>0.624501</td>\n",
       "      <td>0.066084</td>\n",
       "      <td>0.717293</td>\n",
       "      <td>-0.165946</td>\n",
       "      <td>2.345865</td>\n",
       "      <td>-2.890083</td>\n",
       "      <td>1.109969</td>\n",
       "      <td>-0.121359</td>\n",
       "      <td>-2.261857</td>\n",
       "      <td>0.524980</td>\n",
       "      <td>0.247998</td>\n",
       "      <td>0.771679</td>\n",
       "      <td>0.909412</td>\n",
       "      <td>-0.689281</td>\n",
       "      <td>-0.327642</td>\n",
       "      <td>-0.139097</td>\n",
       "      <td>-0.055353</td>\n",
       "      <td>-0.059752</td>\n",
       "      <td>378.66</td>\n",
       "      <td>0</td>\n",
       "    </tr>\n",
       "    <tr>\n",
       "      <th>3</th>\n",
       "      <td>1.0</td>\n",
       "      <td>-0.966272</td>\n",
       "      <td>-0.185226</td>\n",
       "      <td>1.792993</td>\n",
       "      <td>-0.863291</td>\n",
       "      <td>-0.010309</td>\n",
       "      <td>1.247203</td>\n",
       "      <td>0.237609</td>\n",
       "      <td>0.377436</td>\n",
       "      <td>-1.387024</td>\n",
       "      <td>-0.054952</td>\n",
       "      <td>-0.226487</td>\n",
       "      <td>0.178228</td>\n",
       "      <td>0.507757</td>\n",
       "      <td>-0.287924</td>\n",
       "      <td>-0.631418</td>\n",
       "      <td>-1.059647</td>\n",
       "      <td>-0.684093</td>\n",
       "      <td>1.965775</td>\n",
       "      <td>-1.232622</td>\n",
       "      <td>-0.208038</td>\n",
       "      <td>-0.108300</td>\n",
       "      <td>0.005274</td>\n",
       "      <td>-0.190321</td>\n",
       "      <td>-1.175575</td>\n",
       "      <td>0.647376</td>\n",
       "      <td>-0.221929</td>\n",
       "      <td>0.062723</td>\n",
       "      <td>0.061458</td>\n",
       "      <td>123.50</td>\n",
       "      <td>0</td>\n",
       "    </tr>\n",
       "    <tr>\n",
       "      <th>4</th>\n",
       "      <td>2.0</td>\n",
       "      <td>-1.158233</td>\n",
       "      <td>0.877737</td>\n",
       "      <td>1.548718</td>\n",
       "      <td>0.403034</td>\n",
       "      <td>-0.407193</td>\n",
       "      <td>0.095921</td>\n",
       "      <td>0.592941</td>\n",
       "      <td>-0.270533</td>\n",
       "      <td>0.817739</td>\n",
       "      <td>0.753074</td>\n",
       "      <td>-0.822843</td>\n",
       "      <td>0.538196</td>\n",
       "      <td>1.345852</td>\n",
       "      <td>-1.119670</td>\n",
       "      <td>0.175121</td>\n",
       "      <td>-0.451449</td>\n",
       "      <td>-0.237033</td>\n",
       "      <td>-0.038195</td>\n",
       "      <td>0.803487</td>\n",
       "      <td>0.408542</td>\n",
       "      <td>-0.009431</td>\n",
       "      <td>0.798278</td>\n",
       "      <td>-0.137458</td>\n",
       "      <td>0.141267</td>\n",
       "      <td>-0.206010</td>\n",
       "      <td>0.502292</td>\n",
       "      <td>0.219422</td>\n",
       "      <td>0.215153</td>\n",
       "      <td>69.99</td>\n",
       "      <td>0</td>\n",
       "    </tr>\n",
       "  </tbody>\n",
       "</table>\n",
       "</div>"
      ],
      "text/plain": [
       "   Time        V1        V2        V3        V4        V5        V6        V7  \\\n",
       "0   0.0 -1.359807 -0.072781  2.536347  1.378155 -0.338321  0.462388  0.239599   \n",
       "1   0.0  1.191857  0.266151  0.166480  0.448154  0.060018 -0.082361 -0.078803   \n",
       "2   1.0 -1.358354 -1.340163  1.773209  0.379780 -0.503198  1.800499  0.791461   \n",
       "3   1.0 -0.966272 -0.185226  1.792993 -0.863291 -0.010309  1.247203  0.237609   \n",
       "4   2.0 -1.158233  0.877737  1.548718  0.403034 -0.407193  0.095921  0.592941   \n",
       "\n",
       "         V8        V9       V10       V11       V12       V13       V14  \\\n",
       "0  0.098698  0.363787  0.090794 -0.551600 -0.617801 -0.991390 -0.311169   \n",
       "1  0.085102 -0.255425 -0.166974  1.612727  1.065235  0.489095 -0.143772   \n",
       "2  0.247676 -1.514654  0.207643  0.624501  0.066084  0.717293 -0.165946   \n",
       "3  0.377436 -1.387024 -0.054952 -0.226487  0.178228  0.507757 -0.287924   \n",
       "4 -0.270533  0.817739  0.753074 -0.822843  0.538196  1.345852 -1.119670   \n",
       "\n",
       "        V15       V16       V17       V18       V19       V20       V21  \\\n",
       "0  1.468177 -0.470401  0.207971  0.025791  0.403993  0.251412 -0.018307   \n",
       "1  0.635558  0.463917 -0.114805 -0.183361 -0.145783 -0.069083 -0.225775   \n",
       "2  2.345865 -2.890083  1.109969 -0.121359 -2.261857  0.524980  0.247998   \n",
       "3 -0.631418 -1.059647 -0.684093  1.965775 -1.232622 -0.208038 -0.108300   \n",
       "4  0.175121 -0.451449 -0.237033 -0.038195  0.803487  0.408542 -0.009431   \n",
       "\n",
       "        V22       V23       V24       V25       V26       V27       V28  \\\n",
       "0  0.277838 -0.110474  0.066928  0.128539 -0.189115  0.133558 -0.021053   \n",
       "1 -0.638672  0.101288 -0.339846  0.167170  0.125895 -0.008983  0.014724   \n",
       "2  0.771679  0.909412 -0.689281 -0.327642 -0.139097 -0.055353 -0.059752   \n",
       "3  0.005274 -0.190321 -1.175575  0.647376 -0.221929  0.062723  0.061458   \n",
       "4  0.798278 -0.137458  0.141267 -0.206010  0.502292  0.219422  0.215153   \n",
       "\n",
       "   Amount  Class  \n",
       "0  149.62      0  \n",
       "1    2.69      0  \n",
       "2  378.66      0  \n",
       "3  123.50      0  \n",
       "4   69.99      0  "
      ]
     },
     "execution_count": 3,
     "metadata": {},
     "output_type": "execute_result"
    }
   ],
   "source": [
    "#read the dataset\n",
    "df = pd.read_csv('creditcard.csv')\n",
    "#display the dataset\n",
    "df.head()"
   ]
  },
  {
   "cell_type": "markdown",
   "metadata": {},
   "source": [
    "## Data Preparation and EDA"
   ]
  },
  {
   "cell_type": "code",
   "execution_count": 4,
   "metadata": {
    "colab": {
     "base_uri": "https://localhost:8080/",
     "height": 655
    },
    "colab_type": "code",
    "id": "UWt-h8jQwQAO",
    "outputId": "ba119664-5afd-4ce3-ad8a-7e8f509979f4",
    "scrolled": true
   },
   "outputs": [
    {
     "name": "stdout",
     "output_type": "stream",
     "text": [
      "<class 'pandas.core.frame.DataFrame'>\n",
      "RangeIndex: 284807 entries, 0 to 284806\n",
      "Data columns (total 31 columns):\n",
      " #   Column  Non-Null Count   Dtype  \n",
      "---  ------  --------------   -----  \n",
      " 0   Time    284807 non-null  float64\n",
      " 1   V1      284807 non-null  float64\n",
      " 2   V2      284807 non-null  float64\n",
      " 3   V3      284807 non-null  float64\n",
      " 4   V4      284807 non-null  float64\n",
      " 5   V5      284807 non-null  float64\n",
      " 6   V6      284807 non-null  float64\n",
      " 7   V7      284807 non-null  float64\n",
      " 8   V8      284807 non-null  float64\n",
      " 9   V9      284807 non-null  float64\n",
      " 10  V10     284807 non-null  float64\n",
      " 11  V11     284807 non-null  float64\n",
      " 12  V12     284807 non-null  float64\n",
      " 13  V13     284807 non-null  float64\n",
      " 14  V14     284807 non-null  float64\n",
      " 15  V15     284807 non-null  float64\n",
      " 16  V16     284807 non-null  float64\n",
      " 17  V17     284807 non-null  float64\n",
      " 18  V18     284807 non-null  float64\n",
      " 19  V19     284807 non-null  float64\n",
      " 20  V20     284807 non-null  float64\n",
      " 21  V21     284807 non-null  float64\n",
      " 22  V22     284807 non-null  float64\n",
      " 23  V23     284807 non-null  float64\n",
      " 24  V24     284807 non-null  float64\n",
      " 25  V25     284807 non-null  float64\n",
      " 26  V26     284807 non-null  float64\n",
      " 27  V27     284807 non-null  float64\n",
      " 28  V28     284807 non-null  float64\n",
      " 29  Amount  284807 non-null  float64\n",
      " 30  Class   284807 non-null  int64  \n",
      "dtypes: float64(30), int64(1)\n",
      "memory usage: 67.4 MB\n"
     ]
    }
   ],
   "source": [
    "#fetch detailed information of each column and check for nulls\n",
    "df.info()"
   ]
  },
  {
   "cell_type": "code",
   "execution_count": 5,
   "metadata": {
    "colab": {},
    "colab_type": "code",
    "id": "UTjdK0pZxh5M",
    "scrolled": true
   },
   "outputs": [],
   "source": [
    "#drop all null values\n",
    "df.dropna(inplace=True)"
   ]
  },
  {
   "cell_type": "code",
   "execution_count": 6,
   "metadata": {
    "colab": {},
    "colab_type": "code",
    "id": "bO17PcWVwQAW",
    "scrolled": true
   },
   "outputs": [],
   "source": [
    "#create classes for normal and fraud share and check class imbalance\n",
    "classes=df['Class'].value_counts()\n",
    "normal_share=classes[0]/df['Class'].count()*100\n",
    "fraud_share=classes[1]/df['Class'].count()*100"
   ]
  },
  {
   "cell_type": "code",
   "execution_count": 7,
   "metadata": {
    "colab": {
     "base_uri": "https://localhost:8080/",
     "height": 268
    },
    "colab_type": "code",
    "id": "rIlunJSuwQBN",
    "outputId": "7b4287d2-00b9-4433-b59e-d04d226d6522",
    "scrolled": true
   },
   "outputs": [
    {
     "data": {
      "image/png": "[encoded data removed]",
      "text/plain": [
       "<Figure size 432x288 with 1 Axes>"
      ]
     },
     "metadata": {
      "needs_background": "light"
     },
     "output_type": "display_data"
    }
   ],
   "source": [
    "# Visualizing the class imbalance\n",
    "#sns.set(font_scale=1.3)\n",
    "ax=sns.barplot(x=classes.index,y=classes,palette='deep')\n",
    "ax.text(0-0.07, 50000, str(round(normal_share,2)), color='black', fontweight='bold')\n",
    "ax.text(1-0.07, 50000, str(round(fraud_share,2)), color='black', fontweight='bold')\n",
    "plt.show()"
   ]
  },
  {
   "cell_type": "code",
   "execution_count": 8,
   "metadata": {
    "colab": {
     "base_uri": "https://localhost:8080/",
     "height": 282
    },
    "colab_type": "code",
    "id": "cJyTGyQJwQBU",
    "outputId": "b4c3e42a-ff6e-49f7-9e44-b15fc59c0d75",
    "scrolled": true
   },
   "outputs": [
    {
     "data": {
      "image/png": "[encoded data removed]",
      "text/plain": [
       "<Figure size 432x288 with 1 Axes>"
      ]
     },
     "metadata": {
      "needs_background": "light"
     },
     "output_type": "display_data"
    }
   ],
   "source": [
    "sns.scatterplot(data=df,x='Class',y='Time',color='b') #Scatter plot of class w.r.t time\n",
    "plt.show()"
   ]
  },
  {
   "cell_type": "code",
   "execution_count": 9,
   "metadata": {
    "colab": {
     "base_uri": "https://localhost:8080/",
     "height": 279
    },
    "colab_type": "code",
    "id": "l7DsF7evwQBb",
    "outputId": "11546b7e-3bb5-4a28-df55-ce2479d05456",
    "scrolled": true
   },
   "outputs": [
    {
     "data": {
      "image/png": "[encoded data removed]",
      "text/plain": [
       "<Figure size 432x288 with 1 Axes>"
      ]
     },
     "metadata": {
      "needs_background": "light"
     },
     "output_type": "display_data"
    }
   ],
   "source": [
    "sns.scatterplot(data=df,x='Class',y='Amount',color='r') #Scatterplot of class w.r.t amount\n",
    "plt.show()"
   ]
  },
  {
   "cell_type": "code",
   "execution_count": 10,
   "metadata": {
    "colab": {
     "base_uri": "https://localhost:8080/",
     "height": 281
    },
    "colab_type": "code",
    "id": "3df0pEH2wQBi",
    "outputId": "c374d207-f326-40b2-906e-03d56c2bbc53",
    "scrolled": true
   },
   "outputs": [
    {
     "data": {
      "image/png": "[encoded data removed]",
      "text/plain": [
       "<Figure size 1080x288 with 2 Axes>"
      ]
     },
     "metadata": {
      "needs_background": "light"
     },
     "output_type": "display_data"
    }
   ],
   "source": [
    "# Visualize the distribution on Amount and Time fields as they are not Gaussian and might need to be scaled\n",
    "fig, ax = plt.subplots(1, 2, figsize=(15,4))\n",
    "\n",
    "sns.distplot(df['Amount'].values, ax=ax[0], color='b')\n",
    "ax[0].set_title('Transaction Amount', fontsize=12)\n",
    "ax[0].set_xlim([min(df['Amount'].values), max(df['Amount'].values)])\n",
    "\n",
    "sns.distplot(df['Time'].values, ax=ax[1], color='r')\n",
    "ax[1].set_title('Transaction Time', fontsize=12)\n",
    "ax[1].set_xlim([min(df['Time'].values), max(df['Time'].values)])\n",
    "\n",
    "plt.show()"
   ]
  },
  {
   "cell_type": "markdown",
   "metadata": {},
   "source": [
    "### Outlier Treatment"
   ]
  },
  {
   "cell_type": "code",
   "execution_count": 11,
   "metadata": {
    "colab": {},
    "colab_type": "code",
    "id": "oPu6C54HwQBv",
    "scrolled": true
   },
   "outputs": [],
   "source": [
    "# Removing outliers from all columns ( Outliers were detected from the boxplots however they are not drawn for convenience sake)\n",
    "for i in [i for i in df.columns if i!='Class']:\n",
    "    Q1 = df[i].quantile(0.25)\n",
    "    Q3 = df[i].quantile(0.75)\n",
    "    IQR = Q3 - Q1\n",
    "    df[i]=df[i].apply(lambda x:x if (x >= (Q1 - 1.5 * IQR)) & (x<=(Q3 + 1.5 * IQR))\n",
    "                      else (Q1 - 1.5 * IQR) if x< (Q1 - 1.5 * IQR)\n",
    "                      else (Q3 + 1.5 * IQR))\n"
   ]
  },
  {
   "cell_type": "markdown",
   "metadata": {},
   "source": [
    "### EDA"
   ]
  },
  {
   "cell_type": "markdown",
   "metadata": {},
   "source": [
    "##### Let's see how the feature 'class' interacts with other features i.e V1 to V28 and 'time and 'amount'."
   ]
  },
  {
   "cell_type": "code",
   "execution_count": 12,
   "metadata": {
    "colab": {
     "base_uri": "https://localhost:8080/",
     "height": 1000
    },
    "colab_type": "code",
    "id": "_jhZne52wQB1",
    "outputId": "f1cce5cf-b5a7-424d-c819-6630202f39fb",
    "scrolled": false
   },
   "outputs": [
    {
     "data": {
      "image/png": "[encoded data removed]",
      "text/plain": [
       "<Figure size 720x3600 with 30 Axes>"
      ]
     },
     "metadata": {
      "needs_background": "light"
     },
     "output_type": "display_data"
    }
   ],
   "source": [
    "plt.figure(figsize = (10,50))\n",
    "var = [i for i in df.columns if i!='Class']\n",
    "for i in enumerate(var):\n",
    "    plt.subplot(15,2,i[0]+1)\n",
    "    sns.boxplot(x= 'Class', y = i[1], data = df) "
   ]
  },
  {
   "cell_type": "markdown",
   "metadata": {
    "colab": {},
    "colab_type": "code",
    "id": "4LOKwrwZwQCq"
   },
   "source": [
    "Following variables were removed from modelling as they donot show any significant difference in distribution across the target variables (not enough correlation)\n",
    "- **V25**\n",
    "- **V22**\n",
    "- **V15**\n",
    "- **V13**\n",
    "- **V24**"
   ]
  },
  {
   "cell_type": "code",
   "execution_count": 13,
   "metadata": {
    "colab": {},
    "colab_type": "code",
    "id": "SrWxFW11wQC1",
    "scrolled": true
   },
   "outputs": [],
   "source": [
    "#drop the features V13, V15, V22, V24 and V25\n",
    "df.drop(columns=['V13','V15','V22','V24','V25'],inplace=True)"
   ]
  },
  {
   "cell_type": "code",
   "execution_count": 14,
   "metadata": {
    "colab": {},
    "colab_type": "code",
    "id": "FvA5iqy5wQC_",
    "scrolled": true
   },
   "outputs": [],
   "source": [
    "#drop the 'class' column\n",
    "y=df['Class']\n",
    "X=df.drop(columns='Class')"
   ]
  },
  {
   "cell_type": "code",
   "execution_count": 15,
   "metadata": {
    "colab": {},
    "colab_type": "code",
    "id": "lU8qTXMPwQDM",
    "scrolled": true
   },
   "outputs": [],
   "source": [
    "from sklearn.model_selection import train_test_split\n",
    "# Splitting into training and test data-sets\n",
    "X_train, X_test, y_train, y_test = train_test_split(X,y,test_size=0.3,random_state=42,stratify=y) #Stratify the split on class"
   ]
  },
  {
   "cell_type": "code",
   "execution_count": 16,
   "metadata": {
    "colab": {
     "base_uri": "https://localhost:8080/",
     "height": 67
    },
    "colab_type": "code",
    "id": "CzrhMK-0wQD9",
    "outputId": "f0014bc0-597d-4597-f49e-ee80fe6f19c6",
    "scrolled": true
   },
   "outputs": [
    {
     "name": "stdout",
     "output_type": "stream",
     "text": [
      "492\n",
      "344\n",
      "148\n"
     ]
    }
   ],
   "source": [
    "print(np.sum(y))\n",
    "print(np.sum(y_train))\n",
    "print(np.sum(y_test))"
   ]
  },
  {
   "cell_type": "code",
   "execution_count": 17,
   "metadata": {},
   "outputs": [],
   "source": [
    "from sklearn.preprocessing import StandardScaler\n",
    "scaler=StandardScaler()\n",
    "\n",
    "X_train[['Amount','Time']]=scaler.fit_transform(X_train[['Amount','Time']]) #Scaling time and amount fields as the rest are PCA\n",
    "X_test[['Amount','Time']]=scaler.transform(X_test[['Amount','Time']]) #transformed and supposed to be Gaussian distributed."
   ]
  },
  {
   "cell_type": "code",
   "execution_count": 18,
   "metadata": {
    "colab": {
     "base_uri": "https://localhost:8080/",
     "height": 1000
    },
    "colab_type": "code",
    "id": "l2pJKwtvwQED",
    "outputId": "f08e27cf-8a88-46fb-e916-14d49bfff7bf",
    "scrolled": false
   },
   "outputs": [
    {
     "data": {
      "image/png": "[encoded data removed]",
      "text/plain": [
       "<Figure size 720x3600 with 25 Axes>"
      ]
     },
     "metadata": {
      "needs_background": "light"
     },
     "output_type": "display_data"
    }
   ],
   "source": [
    "# Checking for skewness in the PCA transformed and scaled variables\n",
    "plt.figure(figsize = (10,50))\n",
    "var = [i for i in X_train.columns]\n",
    "for i,j in enumerate(var):\n",
    "    plt.subplot(30,1,i+1)\n",
    "    sns.distplot(X_train[j].values,color='r',kde=False) "
   ]
  },
  {
   "cell_type": "code",
   "execution_count": 19,
   "metadata": {
    "colab": {},
    "colab_type": "code",
    "id": "WZ8vxKn0wQEI",
    "scrolled": true
   },
   "outputs": [],
   "source": [
    "# Making sure the features are properly vetted by adjusting the skewness \n",
    "from sklearn.preprocessing import PowerTransformer\n",
    "transformer=PowerTransformer(method='yeo-johnson')\n",
    "\n",
    "X_train[var]=transformer.fit_transform(X_train[var])\n",
    "X_test[var]=transformer.transform(X_test[var])"
   ]
  },
  {
   "cell_type": "code",
   "execution_count": 20,
   "metadata": {
    "colab": {
     "base_uri": "https://localhost:8080/",
     "height": 1000
    },
    "colab_type": "code",
    "id": "6waHRLGCwQEU",
    "outputId": "9019581d-49d0-4eba-a0a0-5810e07310c3",
    "scrolled": false
   },
   "outputs": [
    {
     "data": {
      "image/png": "[encoded data removed]",
      "text/plain": [
       "<Figure size 720x3600 with 25 Axes>"
      ]
     },
     "metadata": {
      "needs_background": "light"
     },
     "output_type": "display_data"
    }
   ],
   "source": [
    "# Distribution of the Transformed variables \n",
    "plt.figure(figsize = (10,50))\n",
    "var = [i for i in X_train.columns]\n",
    "for i,j in enumerate(var):\n",
    "    plt.subplot(30,1,i+1)\n",
    "    sns.distplot(X_train[j].values,color='g',kde=False) "
   ]
  },
  {
   "cell_type": "code",
   "execution_count": 21,
   "metadata": {
    "scrolled": true
   },
   "outputs": [],
   "source": [
    "def model_metrics(cm): # Creating a model metrics function that will return all the important metrics associated with a model\n",
    "    d={}\n",
    "    TP = cm[1,1] # true positive \n",
    "    TN = cm[0,0] # true negatives\n",
    "    FP = cm[0,1] # false positives\n",
    "    FN = cm[1,0] # false negatives\n",
    "    d['Accuracy']=(TP+TN)/(TP+TN+FP+FN)\n",
    "    d['Specificity']=TN/(TN+FP)\n",
    "    d['Sensitivity']=TP/(TP+FN)\n",
    "    d['Precision']=TP/(TP+FP)\n",
    "    d['Recall']=TP/(TP+FN)\n",
    "    d['True Positive Rate']=TP/(TP+FN)\n",
    "    d['False Positive Rate']=1-TN/(TN+FP)\n",
    "    d['F1 Score']=2*d['Precision']*d['Recall']/(d['Precision']+d['Recall'])\n",
    "    return d"
   ]
  },
  {
   "cell_type": "markdown",
   "metadata": {
    "colab_type": "text",
    "id": "diDp_ifBwQEZ"
   },
   "source": [
    "## Model Building\n",
    "- Models are build based on 4 criteria's :\n",
    "    - Unbalanced Dataset\n",
    "    - Random Oversampled Dataset\n",
    "    - SMOTE balanaced Dataset\n",
    "    - ADASYN balanced dataset\n",
    "\n",
    "Benchmark models are developed using the Unbalanced data and the expectation is that the balanced dataset will provide better results.\n",
    "\n",
    "#### Models used in the study:\n",
    " - Logistic Regression\n",
    " - SVM (Only on balanced dataset- excluded in the rest because it is a resource intensive algorithm)\n",
    " - Decision Tree\n",
    " - Random Forest\n",
    " - XGB Classifier"
   ]
  },
  {
   "cell_type": "code",
   "execution_count": 22,
   "metadata": {
    "colab": {},
    "colab_type": "code",
    "id": "wd9uEFUrwQEa",
    "scrolled": true
   },
   "outputs": [],
   "source": [
    "#Import models and metrics used in model building\n",
    "\n",
    "from sklearn.linear_model import LogisticRegression\n",
    "from sklearn.model_selection import RandomizedSearchCV\n",
    "from sklearn.svm import SVC\n",
    "from sklearn.ensemble import RandomForestClassifier\n",
    "from sklearn.tree import DecisionTreeClassifier\n",
    "import xgboost as xgb\n",
    "\n",
    "from sklearn import metrics"
   ]
  },
  {
   "cell_type": "markdown",
   "metadata": {
    "colab_type": "text",
    "id": "o5z2iicAwQFQ"
   },
   "source": [
    "## Unbalanced Data\n",
    "\n",
    "#### 1.Logistic Regression"
   ]
  },
  {
   "cell_type": "code",
   "execution_count": 23,
   "metadata": {
    "colab": {
     "base_uri": "https://localhost:8080/",
     "height": 319
    },
    "colab_type": "code",
    "id": "rxe-f7A3wQFR",
    "outputId": "1b85b815-a0a3-4085-8e68-58842ccf87ad",
    "scrolled": true
   },
   "outputs": [
    {
     "name": "stdout",
     "output_type": "stream",
     "text": [
      "Fitting 3 folds for each of 10 candidates, totalling 30 fits\n"
     ]
    },
    {
     "name": "stderr",
     "output_type": "stream",
     "text": [
      "[Parallel(n_jobs=-1)]: Using backend LokyBackend with 4 concurrent workers.\n",
      "[Parallel(n_jobs=-1)]: Done  30 out of  30 | elapsed:    6.5s finished\n"
     ]
    },
    {
     "data": {
      "text/plain": [
       "RandomizedSearchCV(cv=3, error_score=nan,\n",
       "                   estimator=LogisticRegression(C=1.0, class_weight=None,\n",
       "                                                dual=False, fit_intercept=True,\n",
       "                                                intercept_scaling=1,\n",
       "                                                l1_ratio=None, max_iter=100,\n",
       "                                                multi_class='auto', n_jobs=None,\n",
       "                                                penalty='l2', random_state=42,\n",
       "                                                solver='lbfgs', tol=0.0001,\n",
       "                                                verbose=0, warm_start=False),\n",
       "                   iid='deprecated', n_iter=10, n_jobs=-1,\n",
       "                   param_distributions={'C': [0.001, 0.005, 0.01, 0.05, 0.1,\n",
       "                                              0.15, 0.2, 0.25, 0.3],\n",
       "                                        'penalty': ['l1', 'l2']},\n",
       "                   pre_dispatch='2*n_jobs', random_state=42, refit=True,\n",
       "                   return_train_score=False, scoring='roc_auc', verbose=True)"
      ]
     },
     "execution_count": 23,
     "metadata": {},
     "output_type": "execute_result"
    }
   ],
   "source": [
    "log_unbalanced=LogisticRegression(random_state=42)\n",
    "params={'C': [0.001,0.005,0.01,0.05,0.1,0.15,0.2,0.25,0.3], \n",
    "        'penalty': ['l1', 'l2']}\n",
    "\n",
    "grid=RandomizedSearchCV(estimator=log_unbalanced,param_distributions=params,cv=3,verbose=True,scoring='roc_auc',n_jobs=-1,\n",
    "                        random_state=42)  \n",
    "grid.fit(X_train,y_train)"
   ]
  },
  {
   "cell_type": "code",
   "execution_count": 24,
   "metadata": {
    "colab": {
     "base_uri": "https://localhost:8080/",
     "height": 50
    },
    "colab_type": "code",
    "id": "wT8LU22xwQFW",
    "outputId": "37b1bd94-37e2-4771-fcc5-974f98d70c7d",
    "scrolled": true
   },
   "outputs": [
    {
     "name": "stdout",
     "output_type": "stream",
     "text": [
      "{'penalty': 'l2', 'C': 0.15}\n",
      "0.9843266996842882\n"
     ]
    }
   ],
   "source": [
    "print(grid.best_params_) #best parameters after cross validation\n",
    "print(grid.best_score_) #best auc score obtained after hyperparameter optimisation"
   ]
  },
  {
   "cell_type": "markdown",
   "metadata": {
    "colab_type": "text",
    "id": "7GHPVlJIwQFb"
   },
   "source": [
    "#### 2.SVM"
   ]
  },
  {
   "cell_type": "code",
   "execution_count": 25,
   "metadata": {
    "colab": {
     "base_uri": "https://localhost:8080/",
     "height": 286
    },
    "colab_type": "code",
    "id": "ea0f07qqwQFc",
    "outputId": "2b343699-5795-4879-c70c-2db36bf12a9a",
    "scrolled": true
   },
   "outputs": [
    {
     "name": "stdout",
     "output_type": "stream",
     "text": [
      "Fitting 3 folds for each of 3 candidates, totalling 9 fits\n"
     ]
    },
    {
     "name": "stderr",
     "output_type": "stream",
     "text": [
      "[Parallel(n_jobs=-1)]: Using backend LokyBackend with 4 concurrent workers.\n",
      "[Parallel(n_jobs=-1)]: Done   9 out of   9 | elapsed:  1.2min finished\n"
     ]
    },
    {
     "data": {
      "text/plain": [
       "RandomizedSearchCV(cv=3, error_score=nan,\n",
       "                   estimator=SVC(C=1.0, break_ties=False, cache_size=200,\n",
       "                                 class_weight=None, coef0=0.0,\n",
       "                                 decision_function_shape='ovr', degree=3,\n",
       "                                 gamma='scale', kernel='rbf', max_iter=-1,\n",
       "                                 probability=False, random_state=42,\n",
       "                                 shrinking=True, tol=0.001, verbose=False),\n",
       "                   iid='deprecated', n_iter=10, n_jobs=-1,\n",
       "                   param_distributions={'kernel': ['rbf', 'poly', 'sigmoid']},\n",
       "                   pre_dispatch='2*n_jobs', random_state=42, refit=True,\n",
       "                   return_train_score=False, scoring='roc_auc', verbose=True)"
      ]
     },
     "execution_count": 25,
     "metadata": {},
     "output_type": "execute_result"
    }
   ],
   "source": [
    "svc_unbalanced=SVC(random_state=42)\n",
    "params = {'kernel': ['rbf','poly','sigmoid']} #Types of kernels in svm. Too expensive to tune other parameters\n",
    "\n",
    "grid=RandomizedSearchCV(estimator=svc_unbalanced,param_distributions=params,cv=3,verbose=True,scoring='roc_auc',n_jobs=-1,\n",
    "                        random_state=42) \n",
    "grid.fit(X_train,y_train)"
   ]
  },
  {
   "cell_type": "code",
   "execution_count": 26,
   "metadata": {
    "colab": {
     "base_uri": "https://localhost:8080/",
     "height": 50
    },
    "colab_type": "code",
    "id": "b0a7liShwQFj",
    "outputId": "c93803f4-f73a-4d97-a716-d8f25b104b51",
    "scrolled": true
   },
   "outputs": [
    {
     "name": "stdout",
     "output_type": "stream",
     "text": [
      "{'kernel': 'rbf'}\n",
      "0.9485826162230016\n"
     ]
    }
   ],
   "source": [
    "print(grid.best_params_) #best parameters after cross validation\n",
    "print(grid.best_score_) #best auc score obtained after hyperparameter optimisation"
   ]
  },
  {
   "cell_type": "markdown",
   "metadata": {
    "colab_type": "text",
    "id": "SUSwoTcNwQFo"
   },
   "source": [
    "#### 3.Decision Tree"
   ]
  },
  {
   "cell_type": "code",
   "execution_count": 27,
   "metadata": {
    "colab": {
     "base_uri": "https://localhost:8080/",
     "height": 437
    },
    "colab_type": "code",
    "id": "wwh7ZkscwQFq",
    "outputId": "ffe8e11d-3daa-477a-d104-be8a35177a88",
    "scrolled": true
   },
   "outputs": [
    {
     "name": "stdout",
     "output_type": "stream",
     "text": [
      "Fitting 3 folds for each of 10 candidates, totalling 30 fits\n"
     ]
    },
    {
     "name": "stderr",
     "output_type": "stream",
     "text": [
      "[Parallel(n_jobs=-1)]: Using backend LokyBackend with 4 concurrent workers.\n",
      "[Parallel(n_jobs=-1)]: Done  30 out of  30 | elapsed:   46.8s finished\n"
     ]
    },
    {
     "data": {
      "text/plain": [
       "RandomizedSearchCV(cv=3, error_score=nan,\n",
       "                   estimator=DecisionTreeClassifier(ccp_alpha=0.0,\n",
       "                                                    class_weight=None,\n",
       "                                                    criterion='gini',\n",
       "                                                    max_depth=None,\n",
       "                                                    max_features=None,\n",
       "                                                    max_leaf_nodes=None,\n",
       "                                                    min_impurity_decrease=0.0,\n",
       "                                                    min_impurity_split=None,\n",
       "                                                    min_samples_leaf=1,\n",
       "                                                    min_samples_split=2,\n",
       "                                                    min_weight_fraction_leaf=0.0,\n",
       "                                                    presort='deprecated',\n",
       "                                                    random_state=42,\n",
       "                                                    splitter='best'),\n",
       "                   iid='deprecated', n_iter=10, n_jobs=-1,\n",
       "                   param_distributions={'criterion': ['entropy', 'gini'],\n",
       "                                        'max_depth': [2, 4, 6, 8, 10],\n",
       "                                        'min_samples_leaf': range(10, 100, 15),\n",
       "                                        'min_samples_split': range(10, 100, 15)},\n",
       "                   pre_dispatch='2*n_jobs', random_state=42, refit=True,\n",
       "                   return_train_score=False, scoring='roc_auc', verbose=True)"
      ]
     },
     "execution_count": 27,
     "metadata": {},
     "output_type": "execute_result"
    }
   ],
   "source": [
    "dt_unbalanced=DecisionTreeClassifier(random_state=42)\n",
    "params = {\n",
    "    'max_depth': [2,4,6,8,10],\n",
    "    'min_samples_leaf': range(10, 100, 15), #parameters are self explanatory\n",
    "    'min_samples_split': range(10, 100, 15),\n",
    "    'criterion': [\"entropy\", \"gini\"]\n",
    "}\n",
    "\n",
    "grid=RandomizedSearchCV(estimator=dt_unbalanced,param_distributions=params,cv=3,verbose=True,scoring='roc_auc',n_jobs=-1,\n",
    "                        random_state=42)\n",
    "grid.fit(X_train,y_train)"
   ]
  },
  {
   "cell_type": "code",
   "execution_count": 28,
   "metadata": {
    "colab": {
     "base_uri": "https://localhost:8080/",
     "height": 50
    },
    "colab_type": "code",
    "id": "r1Yhh7RxwQFz",
    "outputId": "b24a7688-ee4e-4714-8a7f-3fb6da3c66d2",
    "scrolled": true
   },
   "outputs": [
    {
     "name": "stdout",
     "output_type": "stream",
     "text": [
      "{'min_samples_split': 10, 'min_samples_leaf': 25, 'max_depth': 4, 'criterion': 'entropy'}\n",
      "0.9692606470025016\n"
     ]
    }
   ],
   "source": [
    "print(grid.best_params_) #best parameters after cross validation\n",
    "print(grid.best_score_) #best auc score obtained after hyperparameter optimisation"
   ]
  },
  {
   "cell_type": "markdown",
   "metadata": {
    "colab_type": "text",
    "id": "VOQS_tnbzp09"
   },
   "source": [
    "#### 4.Random Forest"
   ]
  },
  {
   "cell_type": "code",
   "execution_count": 29,
   "metadata": {
    "colab": {
     "base_uri": "https://localhost:8080/",
     "height": 504
    },
    "colab_type": "code",
    "id": "bUi9T-zazubs",
    "outputId": "3975ecfc-ebad-4219-dd80-52545cc1bda0",
    "scrolled": true
   },
   "outputs": [
    {
     "name": "stdout",
     "output_type": "stream",
     "text": [
      "Fitting 3 folds for each of 10 candidates, totalling 30 fits\n"
     ]
    },
    {
     "name": "stderr",
     "output_type": "stream",
     "text": [
      "[Parallel(n_jobs=-1)]: Using backend LokyBackend with 4 concurrent workers.\n",
      "[Parallel(n_jobs=-1)]: Done  30 out of  30 | elapsed:  3.9min finished\n"
     ]
    },
    {
     "data": {
      "text/plain": [
       "RandomizedSearchCV(cv=3, error_score=nan,\n",
       "                   estimator=RandomForestClassifier(bootstrap=True,\n",
       "                                                    ccp_alpha=0.0,\n",
       "                                                    class_weight=None,\n",
       "                                                    criterion='gini',\n",
       "                                                    max_depth=None,\n",
       "                                                    max_features='auto',\n",
       "                                                    max_leaf_nodes=None,\n",
       "                                                    max_samples=None,\n",
       "                                                    min_impurity_decrease=0.0,\n",
       "                                                    min_impurity_split=None,\n",
       "                                                    min_samples_leaf=1,\n",
       "                                                    min_samples_split=2,\n",
       "                                                    min_weight_fraction_leaf=0.0,\n",
       "                                                    n_estimators=100,\n",
       "                                                    n_jobs...\n",
       "                                                    random_state=42, verbose=0,\n",
       "                                                    warm_start=False),\n",
       "                   iid='deprecated', n_iter=10, n_jobs=-1,\n",
       "                   param_distributions={'max_depth': [2, 4, 6, 8, 10],\n",
       "                                        'max_features': [5, 10, 15, 20, 25],\n",
       "                                        'min_samples_leaf': range(10, 200, 20),\n",
       "                                        'min_samples_split': range(10, 200, 20),\n",
       "                                        'n_estimators': range(5, 30, 5)},\n",
       "                   pre_dispatch='2*n_jobs', random_state=42, refit=True,\n",
       "                   return_train_score=False, scoring='roc_auc', verbose=True)"
      ]
     },
     "execution_count": 29,
     "metadata": {},
     "output_type": "execute_result"
    }
   ],
   "source": [
    "rf_unbalanced=RandomForestClassifier(random_state=42)\n",
    "params = {\n",
    "    'max_depth': [2,4,6,8,10],\n",
    "    'min_samples_leaf': range(10, 200, 20), #parameters are self explanatory\n",
    "    'min_samples_split': range(10, 200, 20),\n",
    "    'n_estimators': range(5,30,5), \n",
    "    'max_features': [5, 10, 15, 20, 25]\n",
    "}\n",
    "\n",
    "grid=RandomizedSearchCV(estimator=rf_unbalanced,param_distributions=params,cv=3,verbose=True,scoring='roc_auc',n_jobs=-1,\n",
    "                        random_state=42)\n",
    "grid.fit(X_train,y_train)"
   ]
  },
  {
   "cell_type": "code",
   "execution_count": 30,
   "metadata": {
    "colab": {
     "base_uri": "https://localhost:8080/",
     "height": 50
    },
    "colab_type": "code",
    "id": "5bmscqeU0f5g",
    "outputId": "c31e1e4e-186a-4a91-8306-01b189387eb8",
    "scrolled": true
   },
   "outputs": [
    {
     "name": "stdout",
     "output_type": "stream",
     "text": [
      "{'n_estimators': 25, 'min_samples_split': 130, 'min_samples_leaf': 90, 'max_features': 10, 'max_depth': 6}\n",
      "0.9777542885386296\n"
     ]
    }
   ],
   "source": [
    "print(grid.best_params_) #best parameters after cross validation\n",
    "print(grid.best_score_) #best auc score obtained after hyperparameter optimisation"
   ]
  },
  {
   "cell_type": "markdown",
   "metadata": {
    "colab_type": "text",
    "id": "JYWA1jPa3B6s"
   },
   "source": [
    "#### 5.XGB"
   ]
  },
  {
   "cell_type": "code",
   "execution_count": 31,
   "metadata": {
    "colab": {
     "base_uri": "https://localhost:8080/",
     "height": 454
    },
    "colab_type": "code",
    "id": "zd-NThOk3FLe",
    "outputId": "8feb3c9f-1df6-43df-b21b-7d0f7fc31580",
    "scrolled": true
   },
   "outputs": [
    {
     "name": "stdout",
     "output_type": "stream",
     "text": [
      "Fitting 3 folds for each of 10 candidates, totalling 30 fits\n"
     ]
    },
    {
     "name": "stderr",
     "output_type": "stream",
     "text": [
      "[Parallel(n_jobs=-1)]: Using backend LokyBackend with 4 concurrent workers.\n",
      "[Parallel(n_jobs=-1)]: Done  30 out of  30 | elapsed:  1.6min finished\n"
     ]
    },
    {
     "data": {
      "text/plain": [
       "RandomizedSearchCV(cv=3, error_score=nan,\n",
       "                   estimator=XGBClassifier(base_score=None, booster=None,\n",
       "                                           colsample_bylevel=None,\n",
       "                                           colsample_bynode=None,\n",
       "                                           colsample_bytree=None, gamma=None,\n",
       "                                           gpu_id=None, importance_type='gain',\n",
       "                                           interaction_constraints=None,\n",
       "                                           learning_rate=None,\n",
       "                                           max_delta_step=None, max_depth=None,\n",
       "                                           min_child_weight=None, missing=nan,\n",
       "                                           monotone_constraints=None,\n",
       "                                           n...\n",
       "                   param_distributions={'colsample_bytree': [0.5, 0.7, 0.9],\n",
       "                                        'gamma': [0.0, 0.1, 0.2, 0.3, 0.4],\n",
       "                                        'learning_rate': [0.05, 0.1, 0.15, 0.2,\n",
       "                                                          0.25, 0.3, 0.35],\n",
       "                                        'max_depth': [3, 4, 5, 6, 8, 10, 12,\n",
       "                                                      15],\n",
       "                                        'max_features': range(5, 30, 2),\n",
       "                                        'min_child_weight': [0, 1, 3, 5, 7],\n",
       "                                        'n_estimators': range(5, 30, 2)},\n",
       "                   pre_dispatch='2*n_jobs', random_state=42, refit=True,\n",
       "                   return_train_score=False, scoring='roc_auc', verbose=True)"
      ]
     },
     "execution_count": 31,
     "metadata": {},
     "output_type": "execute_result"
    }
   ],
   "source": [
    "xgb_unbalanced=xgb.XGBClassifier(random_state=42,objective ='reg:logistic')\n",
    "params = {\n",
    "    \"learning_rate\"    : [0.05, 0.10, 0.15, 0.20, 0.25, 0.30 , 0.35] ,\n",
    "    \"max_depth\"        : [ 3, 4, 5, 6, 8, 10, 12, 15],\n",
    "    \"min_child_weight\" : [ 0, 1, 3, 5, 7 ],\n",
    "    \"gamma\"            : [ 0.0, 0.1, 0.2 , 0.3, 0.4 ],\n",
    "    \"colsample_bytree\" : [ 0.5 , 0.7, 0.9 ],\n",
    "    'n_estimators'     : range(5,30,2),\n",
    "    'max_features'     : range(5,30,2)\n",
    "     }\n",
    "\n",
    "grid=RandomizedSearchCV(estimator=xgb_unbalanced,param_distributions=params,cv=3,verbose=True,scoring='roc_auc',n_jobs=-1,\n",
    "                        random_state=42)\n",
    "grid.fit(X_train,y_train)"
   ]
  },
  {
   "cell_type": "code",
   "execution_count": 32,
   "metadata": {
    "colab": {
     "base_uri": "https://localhost:8080/",
     "height": 50
    },
    "colab_type": "code",
    "id": "-S92VqWD3a-V",
    "outputId": "a475918c-4144-4681-d53e-b8f0dca83872",
    "scrolled": true
   },
   "outputs": [
    {
     "name": "stdout",
     "output_type": "stream",
     "text": [
      "{'n_estimators': 21, 'min_child_weight': 5, 'max_features': 7, 'max_depth': 8, 'learning_rate': 0.3, 'gamma': 0.2, 'colsample_bytree': 0.5}\n",
      "0.9747442224719585\n"
     ]
    }
   ],
   "source": [
    "print(grid.best_params_) #best parameters after cross validation\n",
    "print(grid.best_score_) #best score obtained after hyperparameter optimisation"
   ]
  },
  {
   "cell_type": "markdown",
   "metadata": {},
   "source": [
    "### Benchmark Model"
   ]
  },
  {
   "cell_type": "code",
   "execution_count": 33,
   "metadata": {
    "scrolled": true
   },
   "outputs": [
    {
     "data": {
      "text/plain": [
       "LogisticRegression(C=0.15, class_weight=None, dual=False, fit_intercept=True,\n",
       "                   intercept_scaling=1, l1_ratio=None, max_iter=100,\n",
       "                   multi_class='auto', n_jobs=None, penalty='l2',\n",
       "                   random_state=42, solver='lbfgs', tol=0.0001, verbose=0,\n",
       "                   warm_start=False)"
      ]
     },
     "execution_count": 33,
     "metadata": {},
     "output_type": "execute_result"
    }
   ],
   "source": [
    "# Logistic Regression had the best ROC_AUC score using an unbalanced dataset. Hence, it is used to create the benchmark model.\n",
    "clf=LogisticRegression(C=0.15,penalty='l2',random_state=42) # Creating the benchmark model using Logistic Regression\n",
    "clf.fit(X_train,y_train)"
   ]
  },
  {
   "cell_type": "code",
   "execution_count": 34,
   "metadata": {
    "colab": {},
    "colab_type": "code",
    "id": "G9Jo0Exk3cVr",
    "scrolled": true
   },
   "outputs": [
    {
     "data": {
      "text/plain": [
       "array([[85273,    22],\n",
       "       [   40,   108]], dtype=int64)"
      ]
     },
     "execution_count": 34,
     "metadata": {},
     "output_type": "execute_result"
    }
   ],
   "source": [
    "unbalanced_pred=clf.predict(X_test) #Confustion matrix of the benchmark model\n",
    "cm_unbalanced=metrics.confusion_matrix(y_test,unbalanced_pred)\n",
    "cm_unbalanced"
   ]
  },
  {
   "cell_type": "code",
   "execution_count": 35,
   "metadata": {
    "scrolled": true
   },
   "outputs": [
    {
     "data": {
      "text/plain": [
       "{'Accuracy': 0.9992743700478681,\n",
       " 'Specificity': 0.9997420716337417,\n",
       " 'Sensitivity': 0.7297297297297297,\n",
       " 'Precision': 0.8307692307692308,\n",
       " 'Recall': 0.7297297297297297,\n",
       " 'True Positive Rate': 0.7297297297297297,\n",
       " 'False Positive Rate': 0.0002579283662582643,\n",
       " 'F1 Score': 0.7769784172661871}"
      ]
     },
     "execution_count": 35,
     "metadata": {},
     "output_type": "execute_result"
    }
   ],
   "source": [
    "model_metrics(cm_unbalanced) # model performance of the benchmark model"
   ]
  },
  {
   "cell_type": "code",
   "execution_count": 36,
   "metadata": {
    "scrolled": true
   },
   "outputs": [
    {
     "name": "stdout",
     "output_type": "stream",
     "text": [
      "Test auc of the Benchmark Model= 0.8647359006817358\n",
      "Train auc of the Benchmark Model= 0.9843266996842882\n",
      "1\n"
     ]
    }
   ],
   "source": [
    "# Print the FPR,TPR & select the best threshold from the roc curve\n",
    "print('Test auc of the Benchmark Model=', metrics.roc_auc_score(y_test,unbalanced_pred))\n",
    "print('Train auc of the Benchmark Model= 0.9843266996842882')\n",
    "fpr, tpr, thresholds = metrics.roc_curve(y_test,unbalanced_pred)\n",
    "threshold = thresholds[np.argmax(tpr-fpr)]\n",
    "print(threshold)"
   ]
  },
  {
   "cell_type": "markdown",
   "metadata": {},
   "source": [
    "The Benchmark model has decent AUC score and precision-recall scores. It has a precision of 83% and recall of 73%. However, the banks would be more concerned about capturing maximum fraudulent cases (higher recall score) than getting maximum precision."
   ]
  },
  {
   "cell_type": "markdown",
   "metadata": {},
   "source": [
    "## Model building with balancing Classes\n",
    "\n",
    "##### Perform class balancing with :\n",
    "- Random Oversampling\n",
    "- SMOTE\n",
    "- ADASYN"
   ]
  },
  {
   "cell_type": "markdown",
   "metadata": {},
   "source": [
    "## Random Oversampling"
   ]
  },
  {
   "cell_type": "code",
   "execution_count": 37,
   "metadata": {
    "scrolled": true
   },
   "outputs": [],
   "source": [
    "from imblearn.over_sampling import RandomOverSampler #Minority samples are duplicated to rectify the class imbalance\n",
    "\n",
    "OverSampler=RandomOverSampler(sampling_strategy='auto', random_state=42)\n",
    "X_train_ro,y_train_ro=OverSampler.fit_resample(X_train,y_train)"
   ]
  },
  {
   "cell_type": "markdown",
   "metadata": {},
   "source": [
    "#### 1. Logistic Regression"
   ]
  },
  {
   "cell_type": "code",
   "execution_count": 38,
   "metadata": {
    "scrolled": true
   },
   "outputs": [
    {
     "name": "stdout",
     "output_type": "stream",
     "text": [
      "Fitting 3 folds for each of 10 candidates, totalling 30 fits\n"
     ]
    },
    {
     "name": "stderr",
     "output_type": "stream",
     "text": [
      "[Parallel(n_jobs=-1)]: Using backend LokyBackend with 4 concurrent workers.\n",
      "[Parallel(n_jobs=-1)]: Done  30 out of  30 | elapsed:    9.7s finished\n"
     ]
    },
    {
     "data": {
      "text/plain": [
       "RandomizedSearchCV(cv=3, error_score=nan,\n",
       "                   estimator=LogisticRegression(C=1.0, class_weight=None,\n",
       "                                                dual=False, fit_intercept=True,\n",
       "                                                intercept_scaling=1,\n",
       "                                                l1_ratio=None, max_iter=100,\n",
       "                                                multi_class='auto', n_jobs=None,\n",
       "                                                penalty='l2', random_state=42,\n",
       "                                                solver='lbfgs', tol=0.0001,\n",
       "                                                verbose=0, warm_start=False),\n",
       "                   iid='deprecated', n_iter=10, n_jobs=-1,\n",
       "                   param_distributions={'C': [0.001, 0.005, 0.01, 0.05, 0.1,\n",
       "                                              0.15, 0.2, 0.25, 0.3],\n",
       "                                        'penalty': ['l1', 'l2']},\n",
       "                   pre_dispatch='2*n_jobs', random_state=42, refit=True,\n",
       "                   return_train_score=False, scoring='roc_auc', verbose=True)"
      ]
     },
     "execution_count": 38,
     "metadata": {},
     "output_type": "execute_result"
    }
   ],
   "source": [
    "log_oversampler=LogisticRegression(random_state=42)\n",
    "params={'C': [0.001,0.005,0.01,0.05,0.1,0.15,0.2,0.25,0.3],\n",
    "        'penalty': ['l1', 'l2']}\n",
    "\n",
    "grid=RandomizedSearchCV(estimator=log_oversampler,param_distributions=params,cv=3,verbose=True,scoring='roc_auc',n_jobs=-1,\n",
    "                        random_state=42)\n",
    "grid.fit(X_train_ro,y_train_ro)"
   ]
  },
  {
   "cell_type": "code",
   "execution_count": 39,
   "metadata": {
    "scrolled": true
   },
   "outputs": [
    {
     "name": "stdout",
     "output_type": "stream",
     "text": [
      "{'penalty': 'l2', 'C': 0.25}\n",
      "0.9914588741389941\n"
     ]
    }
   ],
   "source": [
    "print(grid.best_params_) #best parameters after cross validation\n",
    "print(grid.best_score_) #best score obtained after hyperparameter optimisation"
   ]
  },
  {
   "cell_type": "markdown",
   "metadata": {},
   "source": [
    "#### 2. SVM (Skipped due to high training time)"
   ]
  },
  {
   "cell_type": "code",
   "execution_count": 40,
   "metadata": {
    "scrolled": true
   },
   "outputs": [
    {
     "data": {
      "text/plain": [
       "\"'\\nsvc_unbalanced=SVC(random_state=42)\\nparams = {'kernel': ['rbf','poly','sigmoid']}\\n\\ngrid=RandomizedSearchCV(estimator=svc_unbalanced,param_distributions=params,cv=3,verbose=True,scoring='roc_auc',n_jobs=-1,\\n                        random_state=42)\\ngrid.fit(X_train_ro,y_train_ro)\\n\""
      ]
     },
     "execution_count": 40,
     "metadata": {},
     "output_type": "execute_result"
    }
   ],
   "source": [
    "''''\n",
    "svc_unbalanced=SVC(random_state=42)\n",
    "params = {'kernel': ['rbf','poly','sigmoid']}\n",
    "\n",
    "grid=RandomizedSearchCV(estimator=svc_unbalanced,param_distributions=params,cv=3,verbose=True,scoring='roc_auc',n_jobs=-1,\n",
    "                        random_state=42)\n",
    "grid.fit(X_train_ro,y_train_ro)\n",
    "'''"
   ]
  },
  {
   "cell_type": "code",
   "execution_count": 41,
   "metadata": {
    "scrolled": true
   },
   "outputs": [
    {
     "data": {
      "text/plain": [
       "'\\nprint(grid.best_params_)\\nprint(grid.best_score_)\\n'"
      ]
     },
     "execution_count": 41,
     "metadata": {},
     "output_type": "execute_result"
    }
   ],
   "source": [
    "'''\n",
    "print(grid.best_params_)\n",
    "print(grid.best_score_)\n",
    "'''"
   ]
  },
  {
   "cell_type": "markdown",
   "metadata": {},
   "source": [
    "#### 3. Decision Tree"
   ]
  },
  {
   "cell_type": "code",
   "execution_count": 42,
   "metadata": {
    "scrolled": true
   },
   "outputs": [
    {
     "name": "stdout",
     "output_type": "stream",
     "text": [
      "Fitting 3 folds for each of 10 candidates, totalling 30 fits\n"
     ]
    },
    {
     "name": "stderr",
     "output_type": "stream",
     "text": [
      "[Parallel(n_jobs=-1)]: Using backend LokyBackend with 4 concurrent workers.\n",
      "[Parallel(n_jobs=-1)]: Done  30 out of  30 | elapsed:   55.7s finished\n"
     ]
    },
    {
     "data": {
      "text/plain": [
       "RandomizedSearchCV(cv=3, error_score=nan,\n",
       "                   estimator=DecisionTreeClassifier(ccp_alpha=0.0,\n",
       "                                                    class_weight=None,\n",
       "                                                    criterion='gini',\n",
       "                                                    max_depth=None,\n",
       "                                                    max_features=None,\n",
       "                                                    max_leaf_nodes=None,\n",
       "                                                    min_impurity_decrease=0.0,\n",
       "                                                    min_impurity_split=None,\n",
       "                                                    min_samples_leaf=1,\n",
       "                                                    min_samples_split=2,\n",
       "                                                    min_weight_fraction_leaf=0.0,\n",
       "                                                    presort='deprecated',\n",
       "                                                    random_state=42,\n",
       "                                                    splitter='best'),\n",
       "                   iid='deprecated', n_iter=10, n_jobs=-1,\n",
       "                   param_distributions={'criterion': ['entropy', 'gini'],\n",
       "                                        'max_depth': [2, 4, 6, 8, 10],\n",
       "                                        'min_samples_leaf': range(10, 100, 15),\n",
       "                                        'min_samples_split': range(10, 100, 15)},\n",
       "                   pre_dispatch='2*n_jobs', random_state=42, refit=True,\n",
       "                   return_train_score=False, scoring='roc_auc', verbose=True)"
      ]
     },
     "execution_count": 42,
     "metadata": {},
     "output_type": "execute_result"
    }
   ],
   "source": [
    "dt_oversampler=DecisionTreeClassifier(random_state=42)\n",
    "params = {\n",
    "    'max_depth': [2,4,6,8,10],\n",
    "    'min_samples_leaf': range(10, 100, 15),\n",
    "    'min_samples_split': range(10, 100, 15),\n",
    "    'criterion': [\"entropy\", \"gini\"]\n",
    "}\n",
    "\n",
    "grid=RandomizedSearchCV(estimator=dt_oversampler,param_distributions=params,cv=3,verbose=True,scoring='roc_auc',n_jobs=-1,\n",
    "                        random_state=42)\n",
    "grid.fit(X_train_ro,y_train_ro)"
   ]
  },
  {
   "cell_type": "code",
   "execution_count": 43,
   "metadata": {
    "scrolled": true
   },
   "outputs": [
    {
     "name": "stdout",
     "output_type": "stream",
     "text": [
      "{'min_samples_split': 40, 'min_samples_leaf': 40, 'max_depth': 8, 'criterion': 'gini'}\n",
      "0.9994952879904417\n"
     ]
    }
   ],
   "source": [
    "print(grid.best_params_) #best parameters after cross validation\n",
    "print(grid.best_score_) #best score obtained after hyperparameter optimisation"
   ]
  },
  {
   "cell_type": "markdown",
   "metadata": {},
   "source": [
    "#### 4. Random Forest"
   ]
  },
  {
   "cell_type": "code",
   "execution_count": 44,
   "metadata": {
    "scrolled": false
   },
   "outputs": [
    {
     "name": "stdout",
     "output_type": "stream",
     "text": [
      "Fitting 3 folds for each of 10 candidates, totalling 30 fits\n"
     ]
    },
    {
     "name": "stderr",
     "output_type": "stream",
     "text": [
      "[Parallel(n_jobs=-1)]: Using backend LokyBackend with 4 concurrent workers.\n",
      "[Parallel(n_jobs=-1)]: Done  30 out of  30 | elapsed:  4.5min finished\n"
     ]
    },
    {
     "data": {
      "text/plain": [
       "RandomizedSearchCV(cv=3, error_score=nan,\n",
       "                   estimator=RandomForestClassifier(bootstrap=True,\n",
       "                                                    ccp_alpha=0.0,\n",
       "                                                    class_weight=None,\n",
       "                                                    criterion='gini',\n",
       "                                                    max_depth=None,\n",
       "                                                    max_features='auto',\n",
       "                                                    max_leaf_nodes=None,\n",
       "                                                    max_samples=None,\n",
       "                                                    min_impurity_decrease=0.0,\n",
       "                                                    min_impurity_split=None,\n",
       "                                                    min_samples_leaf=1,\n",
       "                                                    min_samples_split=2,\n",
       "                                                    min_weight_fraction_leaf=0.0,\n",
       "                                                    n_estimators=100,\n",
       "                                                    n_jobs...\n",
       "                                                    random_state=42, verbose=0,\n",
       "                                                    warm_start=False),\n",
       "                   iid='deprecated', n_iter=10, n_jobs=-1,\n",
       "                   param_distributions={'max_depth': [2, 4, 6, 8, 10],\n",
       "                                        'max_features': [5, 10, 15, 20, 25],\n",
       "                                        'min_samples_leaf': range(10, 200, 20),\n",
       "                                        'min_samples_split': range(10, 200, 20),\n",
       "                                        'n_estimators': range(5, 30, 5)},\n",
       "                   pre_dispatch='2*n_jobs', random_state=42, refit=True,\n",
       "                   return_train_score=False, scoring='roc_auc', verbose=True)"
      ]
     },
     "execution_count": 44,
     "metadata": {},
     "output_type": "execute_result"
    }
   ],
   "source": [
    "dt_oversampler=RandomForestClassifier(random_state=42)\n",
    "params = {\n",
    "    'max_depth': [2,4,6,8,10],\n",
    "    'min_samples_leaf': range(10, 200, 20),\n",
    "    'min_samples_split': range(10, 200, 20),\n",
    "    'n_estimators': range(5,30,5), \n",
    "    'max_features': [5, 10, 15, 20, 25]\n",
    "}\n",
    "\n",
    "grid=RandomizedSearchCV(estimator=dt_oversampler,param_distributions=params,cv=3,verbose=True,scoring='roc_auc',n_jobs=-1,\n",
    "                        random_state=42)\n",
    "grid.fit(X_train_ro,y_train_ro)"
   ]
  },
  {
   "cell_type": "code",
   "execution_count": 45,
   "metadata": {
    "scrolled": true
   },
   "outputs": [
    {
     "name": "stdout",
     "output_type": "stream",
     "text": [
      "{'n_estimators': 25, 'min_samples_split': 130, 'min_samples_leaf': 110, 'max_features': 15, 'max_depth': 10}\n",
      "0.9999129573847637\n"
     ]
    }
   ],
   "source": [
    "print(grid.best_params_) #best parameters after cross validation\n",
    "print(grid.best_score_) #best score obtained after hyperparameter optimisation"
   ]
  },
  {
   "cell_type": "markdown",
   "metadata": {},
   "source": [
    "#### 5. XGB"
   ]
  },
  {
   "cell_type": "code",
   "execution_count": 46,
   "metadata": {
    "scrolled": false
   },
   "outputs": [
    {
     "name": "stdout",
     "output_type": "stream",
     "text": [
      "Fitting 3 folds for each of 10 candidates, totalling 30 fits\n"
     ]
    },
    {
     "name": "stderr",
     "output_type": "stream",
     "text": [
      "[Parallel(n_jobs=-1)]: Using backend LokyBackend with 4 concurrent workers.\n",
      "[Parallel(n_jobs=-1)]: Done  30 out of  30 | elapsed:  3.4min finished\n"
     ]
    },
    {
     "data": {
      "text/plain": [
       "RandomizedSearchCV(cv=3, error_score=nan,\n",
       "                   estimator=XGBClassifier(base_score=None, booster=None,\n",
       "                                           colsample_bylevel=None,\n",
       "                                           colsample_bynode=None,\n",
       "                                           colsample_bytree=None, gamma=None,\n",
       "                                           gpu_id=None, importance_type='gain',\n",
       "                                           interaction_constraints=None,\n",
       "                                           learning_rate=None,\n",
       "                                           max_delta_step=None, max_depth=None,\n",
       "                                           min_child_weight=None, missing=nan,\n",
       "                                           monotone_constraints=None,\n",
       "                                           n...\n",
       "                   param_distributions={'colsample_bytree': [0.5, 0.7, 0.9],\n",
       "                                        'gamma': [0.0, 0.1, 0.2, 0.3, 0.4],\n",
       "                                        'learning_rate': [0.05, 0.1, 0.15, 0.2,\n",
       "                                                          0.25, 0.3, 0.35],\n",
       "                                        'max_depth': [3, 4, 5, 6, 8, 10, 12,\n",
       "                                                      15],\n",
       "                                        'max_features': range(5, 30, 2),\n",
       "                                        'min_child_weight': [0, 1, 3, 5, 7],\n",
       "                                        'n_estimators': range(5, 30, 2)},\n",
       "                   pre_dispatch='2*n_jobs', random_state=42, refit=True,\n",
       "                   return_train_score=False, scoring='roc_auc', verbose=True)"
      ]
     },
     "execution_count": 46,
     "metadata": {},
     "output_type": "execute_result"
    }
   ],
   "source": [
    "xgb_oversampler=xgb.XGBClassifier(random_state=42,objective ='reg:logistic')\n",
    "params = {\n",
    "    \"learning_rate\"    : [0.05, 0.10, 0.15, 0.20, 0.25, 0.30 , 0.35] ,\n",
    "    \"max_depth\"        : [ 3, 4, 5, 6, 8, 10, 12, 15],\n",
    "    \"min_child_weight\" : [ 0, 1, 3, 5, 7 ],\n",
    "    \"gamma\"            : [ 0.0, 0.1, 0.2 , 0.3, 0.4 ],\n",
    "    \"colsample_bytree\" : [ 0.5 , 0.7, 0.9 ],\n",
    "    'n_estimators'     : range(5,30,2),\n",
    "    'max_features'     : range(5,30,2)\n",
    "     }\n",
    "\n",
    "grid=RandomizedSearchCV(estimator=xgb_oversampler,param_distributions=params,cv=3,verbose=True,scoring='roc_auc',n_jobs=-1,\n",
    "                        random_state=42)\n",
    "grid.fit(X_train_ro,y_train_ro)"
   ]
  },
  {
   "cell_type": "code",
   "execution_count": 47,
   "metadata": {
    "scrolled": true
   },
   "outputs": [
    {
     "name": "stdout",
     "output_type": "stream",
     "text": [
      "{'n_estimators': 21, 'min_child_weight': 5, 'max_features': 7, 'max_depth': 8, 'learning_rate': 0.3, 'gamma': 0.2, 'colsample_bytree': 0.5}\n",
      "0.9999509924527077\n"
     ]
    }
   ],
   "source": [
    "print(grid.best_params_) #best parameters after cross validation\n",
    "print(grid.best_score_) #best score obtained after hyperparameter optimisation"
   ]
  },
  {
   "cell_type": "markdown",
   "metadata": {},
   "source": [
    "### Random Oversampling Best Model: XGBoost"
   ]
  },
  {
   "cell_type": "code",
   "execution_count": 48,
   "metadata": {},
   "outputs": [
    {
     "data": {
      "text/plain": [
       "XGBClassifier(base_score=0.5, booster=None, colsample_bylevel=1,\n",
       "              colsample_bynode=1, colsample_bytree=0.5, gamma=0.2, gpu_id=-1,\n",
       "              importance_type='gain', interaction_constraints=None,\n",
       "              learning_rate=0.3, max_delta_step=0, max_depth=8, max_features=7,\n",
       "              min_child_weight=5, missing=nan, monotone_constraints=None,\n",
       "              n_estimators=21, n_jobs=0, num_parallel_tree=1,\n",
       "              objective='reg:logistic', random_state=42, reg_alpha=0,\n",
       "              reg_lambda=1, scale_pos_weight=1, subsample=1, tree_method=None,\n",
       "              validate_parameters=False, verbosity=None)"
      ]
     },
     "execution_count": 48,
     "metadata": {},
     "output_type": "execute_result"
    }
   ],
   "source": [
    "clf = xgb.XGBClassifier(random_state=42,objective ='reg:logistic', #Creating the best preditive model using SMOTE\n",
    "                        n_estimators= 21, min_child_weight= 5,\n",
    "                        max_features= 7, max_depth= 8, learning_rate= 0.3,\n",
    "                        gamma= 0.2, colsample_bytree= 0.5)\n",
    "\n",
    "clf.fit(X_train_ro,y_train_ro) # fit on the balanced dataset"
   ]
  },
  {
   "cell_type": "code",
   "execution_count": 49,
   "metadata": {},
   "outputs": [
    {
     "data": {
      "text/plain": [
       "array([[85255,    40],\n",
       "       [   31,   117]], dtype=int64)"
      ]
     },
     "execution_count": 49,
     "metadata": {},
     "output_type": "execute_result"
    }
   ],
   "source": [
    "oversampler_pred=clf.predict(X_test) #Confustion matrix of the best model\n",
    "cm_oversampler=metrics.confusion_matrix(y_test,oversampler_pred)\n",
    "cm_oversampler"
   ]
  },
  {
   "cell_type": "code",
   "execution_count": 50,
   "metadata": {},
   "outputs": [
    {
     "data": {
      "text/plain": [
       "{'Accuracy': 0.99916903666772,\n",
       " 'Specificity': 0.9995310393340758,\n",
       " 'Sensitivity': 0.7905405405405406,\n",
       " 'Precision': 0.7452229299363057,\n",
       " 'Recall': 0.7905405405405406,\n",
       " 'True Positive Rate': 0.7905405405405406,\n",
       " 'False Positive Rate': 0.0004689606659241674,\n",
       " 'F1 Score': 0.7672131147540984}"
      ]
     },
     "execution_count": 50,
     "metadata": {},
     "output_type": "execute_result"
    }
   ],
   "source": [
    "model_metrics(cm_oversampler)"
   ]
  },
  {
   "cell_type": "code",
   "execution_count": 51,
   "metadata": {},
   "outputs": [
    {
     "name": "stdout",
     "output_type": "stream",
     "text": [
      "Test auc of the Benchmark Model= 0.8950357899373083\n",
      "Train auc of the Benchmark Model= 0.9999509924527077\n",
      "1\n"
     ]
    }
   ],
   "source": [
    "# Print the FPR,TPR & select the best threshold from the roc curve\n",
    "print('Test auc of the Benchmark Model=', metrics.roc_auc_score(y_test,oversampler_pred))\n",
    "print('Train auc of the Benchmark Model= 0.9999509924527077')\n",
    "fpr, tpr, thresholds = metrics.roc_curve(y_test,unbalanced_pred)\n",
    "threshold = thresholds[np.argmax(tpr-fpr)]\n",
    "print(threshold)"
   ]
  },
  {
   "cell_type": "markdown",
   "metadata": {},
   "source": [
    "Random Oversampling XGBoost has a very high train AUC Score and the ideal Precision-Recall values. This is a good competitor for spot of the best predicitve model."
   ]
  },
  {
   "cell_type": "markdown",
   "metadata": {},
   "source": [
    "## SMOTE"
   ]
  },
  {
   "cell_type": "code",
   "execution_count": 52,
   "metadata": {
    "scrolled": false
   },
   "outputs": [
    {
     "data": {
      "image/png": "[encoded data removed]",
      "text/plain": [
       "<Figure size 504x1080 with 3 Axes>"
      ]
     },
     "metadata": {
      "needs_background": "light"
     },
     "output_type": "display_data"
    }
   ],
   "source": [
    "# Visualize how SMOTE oversamples the dataset to correct the data imbalance\n",
    "\n",
    "from imblearn.over_sampling import SMOTE\n",
    "\n",
    "sm=SMOTE(random_state=42) # New datapoints are synthetically created among the minority samples\n",
    "X_train_sm,y_train_sm=sm.fit_resample(X_train,y_train)\n",
    "\n",
    "X_train_sm_1 = X_train_ro[X_train.shape[0]:]\n",
    "\n",
    "X_train_1 = X_train.to_numpy()[np.where(y_train==1.0)]\n",
    "X_train_0 = X_train.to_numpy()[np.where(y_train==0.0)]\n",
    "\n",
    "\n",
    "plt.rcParams['figure.figsize'] = [7, 15]\n",
    "fig = plt.figure()\n",
    "\n",
    "plt.subplot(3, 1, 1)\n",
    "plt.scatter(X_train_1[:, 0], X_train_1[:, 1], label='Actual Class-1 Examples')\n",
    "plt.legend()\n",
    "\n",
    "plt.subplot(3, 1, 2)\n",
    "plt.scatter(X_train_1[:, 0], X_train_1[:, 1], label='Actual Class-1 Examples')\n",
    "plt.scatter(X_train_sm_1.iloc[:X_train_1.shape[0], 0], X_train_sm_1.iloc[:X_train_1.shape[0], 1],\n",
    "            label='SMOTE Class-1 Examples')\n",
    "\n",
    "plt.legend()\n",
    "\n",
    "plt.subplot(3, 1, 3)\n",
    "plt.scatter(X_train_1[:, 0], X_train_1[:, 1], label='Actual Class-1 Examples')\n",
    "plt.scatter(X_train_0[:X_train_1.shape[0], 0], X_train_0[:X_train_1.shape[0], 1], label='Actual Class-0 Examples')\n",
    "plt.legend()\n",
    "\n",
    "plt.show()"
   ]
  },
  {
   "cell_type": "markdown",
   "metadata": {},
   "source": [
    "#### 1. Logistic Regression"
   ]
  },
  {
   "cell_type": "code",
   "execution_count": 53,
   "metadata": {
    "scrolled": true
   },
   "outputs": [
    {
     "name": "stdout",
     "output_type": "stream",
     "text": [
      "Fitting 3 folds for each of 10 candidates, totalling 30 fits\n"
     ]
    },
    {
     "name": "stderr",
     "output_type": "stream",
     "text": [
      "[Parallel(n_jobs=-1)]: Using backend LokyBackend with 4 concurrent workers.\n",
      "[Parallel(n_jobs=-1)]: Done  30 out of  30 | elapsed:   10.2s finished\n"
     ]
    },
    {
     "data": {
      "text/plain": [
       "RandomizedSearchCV(cv=3, error_score=nan,\n",
       "                   estimator=LogisticRegression(C=1.0, class_weight=None,\n",
       "                                                dual=False, fit_intercept=True,\n",
       "                                                intercept_scaling=1,\n",
       "                                                l1_ratio=None, max_iter=100,\n",
       "                                                multi_class='auto', n_jobs=None,\n",
       "                                                penalty='l2', random_state=42,\n",
       "                                                solver='lbfgs', tol=0.0001,\n",
       "                                                verbose=0, warm_start=False),\n",
       "                   iid='deprecated', n_iter=10, n_jobs=-1,\n",
       "                   param_distributions={'C': [0.001, 0.005, 0.01, 0.05, 0.1,\n",
       "                                              0.15, 0.2, 0.25, 0.3],\n",
       "                                        'penalty': ['l1', 'l2']},\n",
       "                   pre_dispatch='2*n_jobs', random_state=42, refit=True,\n",
       "                   return_train_score=False, scoring='roc_auc', verbose=True)"
      ]
     },
     "execution_count": 53,
     "metadata": {},
     "output_type": "execute_result"
    }
   ],
   "source": [
    "log_smote=LogisticRegression(random_state=42)\n",
    "params={'C': [0.001,0.005,0.01,0.05,0.1,0.15,0.2,0.25,0.3],\n",
    "        'penalty': ['l1', 'l2']}\n",
    "\n",
    "grid=RandomizedSearchCV(estimator=log_smote,param_distributions=params,cv=3,verbose=True,scoring='roc_auc',n_jobs=-1,\n",
    "                        random_state=42)\n",
    "grid.fit(X_train_sm,y_train_sm)"
   ]
  },
  {
   "cell_type": "code",
   "execution_count": 54,
   "metadata": {
    "scrolled": true
   },
   "outputs": [
    {
     "name": "stdout",
     "output_type": "stream",
     "text": [
      "{'penalty': 'l2', 'C': 0.25}\n",
      "0.9936533019180175\n"
     ]
    }
   ],
   "source": [
    "print(grid.best_params_) #best parameters after cross validation\n",
    "print(grid.best_score_) #best score obtained after hyperparameter optimisation"
   ]
  },
  {
   "cell_type": "markdown",
   "metadata": {},
   "source": [
    "#### 2. SVM (Skipped due to long training time)"
   ]
  },
  {
   "cell_type": "code",
   "execution_count": 55,
   "metadata": {
    "scrolled": true
   },
   "outputs": [
    {
     "data": {
      "text/plain": [
       "\"\\nsvc_unbalanced=SVC(random_state=42)\\nparams = {'kernel': ['rbf','poly','sigmoid']}\\n\\ngrid=RandomizedSearchCV(estimator=svc_unbalanced,param_distributions=params,cv=3,verbose=True,scoring='roc_auc',n_jobs=-1,\\n                        random_state=42)\\ngrid.fit(X_train_sm,y_train_sm)\\n\""
      ]
     },
     "execution_count": 55,
     "metadata": {},
     "output_type": "execute_result"
    }
   ],
   "source": [
    "'''\n",
    "svc_unbalanced=SVC(random_state=42)\n",
    "params = {'kernel': ['rbf','poly','sigmoid']}\n",
    "\n",
    "grid=RandomizedSearchCV(estimator=svc_unbalanced,param_distributions=params,cv=3,verbose=True,scoring='roc_auc',n_jobs=-1,\n",
    "                        random_state=42)\n",
    "grid.fit(X_train_sm,y_train_sm)\n",
    "'''"
   ]
  },
  {
   "cell_type": "code",
   "execution_count": 56,
   "metadata": {
    "scrolled": true
   },
   "outputs": [
    {
     "data": {
      "text/plain": [
       "'\\nprint(grid.best_params_)\\nprint(grid.best_score_)\\n'"
      ]
     },
     "execution_count": 56,
     "metadata": {},
     "output_type": "execute_result"
    }
   ],
   "source": [
    "'''\n",
    "print(grid.best_params_)\n",
    "print(grid.best_score_)\n",
    "'''"
   ]
  },
  {
   "cell_type": "markdown",
   "metadata": {},
   "source": [
    "#### 3. Decision Tree"
   ]
  },
  {
   "cell_type": "code",
   "execution_count": 57,
   "metadata": {
    "scrolled": true
   },
   "outputs": [
    {
     "name": "stdout",
     "output_type": "stream",
     "text": [
      "Fitting 3 folds for each of 10 candidates, totalling 30 fits\n"
     ]
    },
    {
     "name": "stderr",
     "output_type": "stream",
     "text": [
      "[Parallel(n_jobs=-1)]: Using backend LokyBackend with 4 concurrent workers.\n",
      "[Parallel(n_jobs=-1)]: Done  30 out of  30 | elapsed:  1.4min finished\n"
     ]
    },
    {
     "data": {
      "text/plain": [
       "RandomizedSearchCV(cv=3, error_score=nan,\n",
       "                   estimator=DecisionTreeClassifier(ccp_alpha=0.0,\n",
       "                                                    class_weight=None,\n",
       "                                                    criterion='gini',\n",
       "                                                    max_depth=None,\n",
       "                                                    max_features=None,\n",
       "                                                    max_leaf_nodes=None,\n",
       "                                                    min_impurity_decrease=0.0,\n",
       "                                                    min_impurity_split=None,\n",
       "                                                    min_samples_leaf=1,\n",
       "                                                    min_samples_split=2,\n",
       "                                                    min_weight_fraction_leaf=0.0,\n",
       "                                                    presort='deprecated',\n",
       "                                                    random_state=42,\n",
       "                                                    splitter='best'),\n",
       "                   iid='deprecated', n_iter=10, n_jobs=-1,\n",
       "                   param_distributions={'criterion': ['entropy', 'gini'],\n",
       "                                        'max_depth': [2, 4, 6, 8, 10],\n",
       "                                        'min_samples_leaf': range(10, 100, 15),\n",
       "                                        'min_samples_split': range(10, 100, 15)},\n",
       "                   pre_dispatch='2*n_jobs', random_state=42, refit=True,\n",
       "                   return_train_score=False, scoring='roc_auc', verbose=True)"
      ]
     },
     "execution_count": 57,
     "metadata": {},
     "output_type": "execute_result"
    }
   ],
   "source": [
    "dt_smote=DecisionTreeClassifier(random_state=42)\n",
    "params = {\n",
    "    'max_depth': [2,4,6,8,10],\n",
    "    'min_samples_leaf': range(10, 100, 15),\n",
    "    'min_samples_split': range(10, 100, 15),\n",
    "    'criterion': [\"entropy\", \"gini\"]\n",
    "}\n",
    "\n",
    "grid=RandomizedSearchCV(estimator=dt_smote,param_distributions=params,cv=3,verbose=True,scoring='roc_auc',n_jobs=-1,\n",
    "                        random_state=42)\n",
    "grid.fit(X_train_sm,y_train_sm)"
   ]
  },
  {
   "cell_type": "code",
   "execution_count": 58,
   "metadata": {
    "scrolled": true
   },
   "outputs": [
    {
     "name": "stdout",
     "output_type": "stream",
     "text": [
      "{'min_samples_split': 70, 'min_samples_leaf': 40, 'max_depth': 8, 'criterion': 'entropy'}\n",
      "0.9978527825991615\n"
     ]
    }
   ],
   "source": [
    "print(grid.best_params_) #best parameters after cross validation\n",
    "print(grid.best_score_) #best score obtained after hyperparameter optimisation"
   ]
  },
  {
   "cell_type": "markdown",
   "metadata": {},
   "source": [
    "#### 4. Random Forest"
   ]
  },
  {
   "cell_type": "code",
   "execution_count": 59,
   "metadata": {
    "scrolled": true
   },
   "outputs": [
    {
     "name": "stdout",
     "output_type": "stream",
     "text": [
      "Fitting 3 folds for each of 10 candidates, totalling 30 fits\n"
     ]
    },
    {
     "name": "stderr",
     "output_type": "stream",
     "text": [
      "[Parallel(n_jobs=-1)]: Using backend LokyBackend with 4 concurrent workers.\n",
      "[Parallel(n_jobs=-1)]: Done  30 out of  30 | elapsed:  7.2min finished\n"
     ]
    },
    {
     "data": {
      "text/plain": [
       "RandomizedSearchCV(cv=3, error_score=nan,\n",
       "                   estimator=RandomForestClassifier(bootstrap=True,\n",
       "                                                    ccp_alpha=0.0,\n",
       "                                                    class_weight=None,\n",
       "                                                    criterion='gini',\n",
       "                                                    max_depth=None,\n",
       "                                                    max_features='auto',\n",
       "                                                    max_leaf_nodes=None,\n",
       "                                                    max_samples=None,\n",
       "                                                    min_impurity_decrease=0.0,\n",
       "                                                    min_impurity_split=None,\n",
       "                                                    min_samples_leaf=1,\n",
       "                                                    min_samples_split=2,\n",
       "                                                    min_weight_fraction_leaf=0.0,\n",
       "                                                    n_estimators=100,\n",
       "                                                    n_jobs...\n",
       "                                                    random_state=42, verbose=0,\n",
       "                                                    warm_start=False),\n",
       "                   iid='deprecated', n_iter=10, n_jobs=-1,\n",
       "                   param_distributions={'max_depth': [2, 4, 6, 8, 10],\n",
       "                                        'max_features': [5, 10, 15, 20, 25],\n",
       "                                        'min_samples_leaf': range(10, 200, 20),\n",
       "                                        'min_samples_split': range(10, 200, 20),\n",
       "                                        'n_estimators': range(5, 30, 5)},\n",
       "                   pre_dispatch='2*n_jobs', random_state=42, refit=True,\n",
       "                   return_train_score=False, scoring='roc_auc', verbose=True)"
      ]
     },
     "execution_count": 59,
     "metadata": {},
     "output_type": "execute_result"
    }
   ],
   "source": [
    "rf_smote=RandomForestClassifier(random_state=42) \n",
    "params = {\n",
    "    'max_depth': [2,4,6,8,10],\n",
    "    'min_samples_leaf': range(10, 200, 20),\n",
    "    'min_samples_split': range(10, 200, 20),\n",
    "    'n_estimators': range(5,30,5), \n",
    "    'max_features': [5, 10, 15, 20, 25]\n",
    "}\n",
    "\n",
    "grid=RandomizedSearchCV(estimator=rf_smote,param_distributions=params,cv=3,verbose=True,scoring='roc_auc',n_jobs=-1,\n",
    "                        random_state=42)\n",
    "grid.fit(X_train_sm,y_train_sm)"
   ]
  },
  {
   "cell_type": "code",
   "execution_count": 60,
   "metadata": {
    "scrolled": true
   },
   "outputs": [
    {
     "name": "stdout",
     "output_type": "stream",
     "text": [
      "{'n_estimators': 25, 'min_samples_split': 130, 'min_samples_leaf': 110, 'max_features': 15, 'max_depth': 10}\n",
      "0.999601103895673\n"
     ]
    }
   ],
   "source": [
    "print(grid.best_params_) #best parameters after cross validation\n",
    "print(grid.best_score_) #best score obtained after hyperparameter optimisation"
   ]
  },
  {
   "cell_type": "markdown",
   "metadata": {},
   "source": [
    "#### 5. XGB"
   ]
  },
  {
   "cell_type": "code",
   "execution_count": 61,
   "metadata": {
    "scrolled": true
   },
   "outputs": [
    {
     "name": "stdout",
     "output_type": "stream",
     "text": [
      "Fitting 3 folds for each of 10 candidates, totalling 30 fits\n"
     ]
    },
    {
     "name": "stderr",
     "output_type": "stream",
     "text": [
      "[Parallel(n_jobs=-1)]: Using backend LokyBackend with 4 concurrent workers.\n",
      "[Parallel(n_jobs=-1)]: Done  30 out of  30 | elapsed:  4.7min finished\n"
     ]
    },
    {
     "data": {
      "text/plain": [
       "RandomizedSearchCV(cv=3, error_score=nan,\n",
       "                   estimator=XGBClassifier(base_score=None, booster=None,\n",
       "                                           colsample_bylevel=None,\n",
       "                                           colsample_bynode=None,\n",
       "                                           colsample_bytree=None, gamma=None,\n",
       "                                           gpu_id=None, importance_type='gain',\n",
       "                                           interaction_constraints=None,\n",
       "                                           learning_rate=None,\n",
       "                                           max_delta_step=None, max_depth=None,\n",
       "                                           min_child_weight=None, missing=nan,\n",
       "                                           monotone_constraints=None,\n",
       "                                           n...\n",
       "                   param_distributions={'colsample_bytree': [0.5, 0.7, 0.9],\n",
       "                                        'gamma': [0.0, 0.1, 0.2, 0.3, 0.4],\n",
       "                                        'learning_rate': [0.05, 0.1, 0.15, 0.2,\n",
       "                                                          0.25, 0.3, 0.35],\n",
       "                                        'max_depth': [3, 4, 5, 6, 8, 10, 12,\n",
       "                                                      15],\n",
       "                                        'max_features': range(5, 30, 2),\n",
       "                                        'min_child_weight': [0, 1, 3, 5, 7],\n",
       "                                        'n_estimators': range(5, 30, 2)},\n",
       "                   pre_dispatch='2*n_jobs', random_state=42, refit=True,\n",
       "                   return_train_score=False, scoring='roc_auc', verbose=True)"
      ]
     },
     "execution_count": 61,
     "metadata": {},
     "output_type": "execute_result"
    }
   ],
   "source": [
    "xgb_smote=xgb.XGBClassifier(random_state=42,objective ='reg:logistic') #Logistic because binary classification problem\n",
    "params = {\n",
    "    \"learning_rate\"    : [0.05, 0.10, 0.15, 0.20, 0.25, 0.30 , 0.35] ,\n",
    "    \"max_depth\"        : [ 3, 4, 5, 6, 8, 10, 12, 15],\n",
    "    \"min_child_weight\" : [ 0, 1, 3, 5, 7 ],\n",
    "    \"gamma\"            : [ 0.0, 0.1, 0.2 , 0.3, 0.4 ],\n",
    "    \"colsample_bytree\" : [ 0.5 , 0.7, 0.9 ],\n",
    "    'n_estimators'     : range(5,30,2),\n",
    "    'max_features'     : range(5,30,2)\n",
    "     }\n",
    "\n",
    "grid=RandomizedSearchCV(estimator=xgb_smote,param_distributions=params,cv=3,verbose=True,scoring='roc_auc',n_jobs=-1,\n",
    "                        random_state=42)\n",
    "grid.fit(X_train_sm,y_train_sm)"
   ]
  },
  {
   "cell_type": "code",
   "execution_count": 62,
   "metadata": {
    "scrolled": true
   },
   "outputs": [
    {
     "name": "stdout",
     "output_type": "stream",
     "text": [
      "{'n_estimators': 21, 'min_child_weight': 5, 'max_features': 7, 'max_depth': 8, 'learning_rate': 0.3, 'gamma': 0.2, 'colsample_bytree': 0.5}\n",
      "0.9999296167970114\n"
     ]
    }
   ],
   "source": [
    "print(grid.best_params_) #best parameters after cross validation\n",
    "print(grid.best_score_) #best score obtained after hyperparameter optimisation"
   ]
  },
  {
   "cell_type": "markdown",
   "metadata": {},
   "source": [
    "### SMOTE Best Model: XGBoost"
   ]
  },
  {
   "cell_type": "code",
   "execution_count": 63,
   "metadata": {},
   "outputs": [
    {
     "data": {
      "text/plain": [
       "XGBClassifier(base_score=0.5, booster=None, colsample_bylevel=1,\n",
       "              colsample_bynode=1, colsample_bytree=0.5, gamma=0.2, gpu_id=-1,\n",
       "              importance_type='gain', interaction_constraints=None,\n",
       "              learning_rate=0.3, max_delta_step=0, max_depth=8, max_features=7,\n",
       "              min_child_weight=5, missing=nan, monotone_constraints=None,\n",
       "              n_estimators=21, n_jobs=0, num_parallel_tree=1,\n",
       "              objective='reg:logistic', random_state=42, reg_alpha=0,\n",
       "              reg_lambda=1, scale_pos_weight=1, subsample=1, tree_method=None,\n",
       "              validate_parameters=False, verbosity=None)"
      ]
     },
     "execution_count": 63,
     "metadata": {},
     "output_type": "execute_result"
    }
   ],
   "source": [
    "clf = xgb.XGBClassifier(random_state=42,objective ='reg:logistic', #Creating the best preditive model using SMOTE\n",
    "                        n_estimators= 21, min_child_weight= 5,\n",
    "                        max_features= 7, max_depth= 8, learning_rate= 0.3,\n",
    "                        gamma= 0.2, colsample_bytree= 0.5)\n",
    "\n",
    "clf.fit(X_train_sm,y_train_sm) # fit on the balanced dataset"
   ]
  },
  {
   "cell_type": "code",
   "execution_count": 64,
   "metadata": {},
   "outputs": [
    {
     "data": {
      "text/plain": [
       "array([[85086,   209],\n",
       "       [   29,   119]], dtype=int64)"
      ]
     },
     "execution_count": 64,
     "metadata": {},
     "output_type": "execute_result"
    }
   ],
   "source": [
    "smote_pred=clf.predict(X_test) #Confustion matrix of the best model\n",
    "cm_smote=metrics.confusion_matrix(y_test,smote_pred)\n",
    "cm_smote"
   ]
  },
  {
   "cell_type": "code",
   "execution_count": 65,
   "metadata": {},
   "outputs": [
    {
     "data": {
      "text/plain": [
       "{'Accuracy': 0.9972145172805262,\n",
       " 'Specificity': 0.9975496805205464,\n",
       " 'Sensitivity': 0.8040540540540541,\n",
       " 'Precision': 0.3628048780487805,\n",
       " 'Recall': 0.8040540540540541,\n",
       " 'True Positive Rate': 0.8040540540540541,\n",
       " 'False Positive Rate': 0.002450319479453622,\n",
       " 'F1 Score': 0.5}"
      ]
     },
     "execution_count": 65,
     "metadata": {},
     "output_type": "execute_result"
    }
   ],
   "source": [
    "model_metrics(cm_smote)"
   ]
  },
  {
   "cell_type": "code",
   "execution_count": 81,
   "metadata": {},
   "outputs": [
    {
     "name": "stdout",
     "output_type": "stream",
     "text": [
      "Test auc of the SMOTE Model = 0.9008018672873002\n",
      "Train auc of the SMOTE Model = 0.9999296167970114\n",
      "1\n"
     ]
    }
   ],
   "source": [
    "# Print the FPR,TPR & select the best threshold from the roc curve\n",
    "print('Test auc of the SMOTE Model =', metrics.roc_auc_score(y_test,smote_pred))\n",
    "print('Train auc of the SMOTE Model = 0.9999296167970114')\n",
    "fpr, tpr, thresholds = metrics.roc_curve(y_test,smote_pred)\n",
    "threshold = thresholds[np.argmax(tpr-fpr)]\n",
    "print(threshold)"
   ]
  },
  {
   "cell_type": "markdown",
   "metadata": {},
   "source": [
    "Test AUC is very high with SMOTE XGB Classifier, however the precision is very low(0.36). I believe that wrongly classifying genuine transactions as fraudulent will increase the bank's work load and will thereby result in a lower efficiency than a model with acceptable precision, recall and AUC scores. (Random Oversampler XGBoost model)"
   ]
  },
  {
   "cell_type": "markdown",
   "metadata": {},
   "source": [
    "## ADASYN"
   ]
  },
  {
   "cell_type": "code",
   "execution_count": 67,
   "metadata": {
    "scrolled": true
   },
   "outputs": [
    {
     "data": {
      "image/png": "[encoded data removed]",
      "text/plain": [
       "<Figure size 504x1080 with 3 Axes>"
      ]
     },
     "metadata": {
      "needs_background": "light"
     },
     "output_type": "display_data"
    }
   ],
   "source": [
    "# Visualize how ADASYN is balancing the dataset\n",
    "\n",
    "import warnings\n",
    "warnings.filterwarnings(\"ignore\")\n",
    "\n",
    "from imblearn import over_sampling\n",
    "\n",
    "ada = over_sampling.ADASYN(random_state=42)\n",
    "X_train_ada, y_train_ada = ada.fit_resample(X_train, y_train)\n",
    "# Artificial minority samples and corresponding minority labels from ADASYN are appended\n",
    "# below X_train and y_train respectively\n",
    "# So to exclusively get the artificial minority samples from ADASYN, we do\n",
    "X_train_ada_1 = X_train_ada[X_train.shape[0]:]\n",
    "\n",
    "X_train_1 = X_train.to_numpy()[np.where(y_train==1.0)]\n",
    "X_train_0 = X_train.to_numpy()[np.where(y_train==0.0)]\n",
    "\n",
    "\n",
    "plt.rcParams['figure.figsize'] = [7, 15]\n",
    "fig = plt.figure()\n",
    "\n",
    "plt.subplot(3, 1, 1)\n",
    "plt.scatter(X_train_1[:, 0], X_train_1[:, 1], label='Actual Class-1 Examples')\n",
    "plt.legend()\n",
    "\n",
    "plt.subplot(3, 1, 2)\n",
    "plt.scatter(X_train_1[:, 0], X_train_1[:, 1], label='Actual Class-1 Examples')\n",
    "plt.scatter(X_train_ada_1.iloc[:X_train_1.shape[0], 0], X_train_ada_1.iloc[:X_train_1.shape[0], 1],\n",
    "            label='Artificial ADASYN Class-1 Examples')\n",
    "plt.legend()\n",
    "\n",
    "plt.subplot(3, 1, 3)\n",
    "plt.scatter(X_train_1[:, 0], X_train_1[:, 1], label='Actual Class-1 Examples')\n",
    "plt.scatter(X_train_0[:X_train_1.shape[0], 0], X_train_0[:X_train_1.shape[0], 1], label='Actual Class-0 Examples')\n",
    "plt.legend()\n",
    "\n",
    "plt.show()"
   ]
  },
  {
   "cell_type": "markdown",
   "metadata": {},
   "source": [
    "#### 1.Logistic Regression"
   ]
  },
  {
   "cell_type": "code",
   "execution_count": 68,
   "metadata": {
    "scrolled": true
   },
   "outputs": [
    {
     "name": "stdout",
     "output_type": "stream",
     "text": [
      "Fitting 3 folds for each of 10 candidates, totalling 30 fits\n"
     ]
    },
    {
     "name": "stderr",
     "output_type": "stream",
     "text": [
      "[Parallel(n_jobs=-1)]: Using backend LokyBackend with 4 concurrent workers.\n",
      "[Parallel(n_jobs=-1)]: Done  30 out of  30 | elapsed:   13.8s finished\n"
     ]
    },
    {
     "data": {
      "text/plain": [
       "RandomizedSearchCV(cv=3, error_score=nan,\n",
       "                   estimator=LogisticRegression(C=1.0, class_weight=None,\n",
       "                                                dual=False, fit_intercept=True,\n",
       "                                                intercept_scaling=1,\n",
       "                                                l1_ratio=None, max_iter=100,\n",
       "                                                multi_class='auto', n_jobs=None,\n",
       "                                                penalty='l2', random_state=42,\n",
       "                                                solver='lbfgs', tol=0.0001,\n",
       "                                                verbose=0, warm_start=False),\n",
       "                   iid='deprecated', n_iter=10, n_jobs=-1,\n",
       "                   param_distributions={'C': [0.001, 0.005, 0.01, 0.05, 0.1,\n",
       "                                              0.15, 0.2, 0.25, 0.3],\n",
       "                                        'penalty': ['l1', 'l2']},\n",
       "                   pre_dispatch='2*n_jobs', random_state=42, refit=True,\n",
       "                   return_train_score=False, scoring='roc_auc', verbose=True)"
      ]
     },
     "execution_count": 68,
     "metadata": {},
     "output_type": "execute_result"
    }
   ],
   "source": [
    "log_adasyn=LogisticRegression(random_state=42)\n",
    "params={'C': [0.001,0.005,0.01,0.05,0.1,0.15,0.2,0.25,0.3],\n",
    "        'penalty': ['l1', 'l2']}\n",
    "\n",
    "grid=RandomizedSearchCV(estimator=log_adasyn,param_distributions=params,cv=3,verbose=True,scoring='roc_auc',n_jobs=-1,\n",
    "                        random_state=42)\n",
    "grid.fit(X_train_ada,y_train_ada)"
   ]
  },
  {
   "cell_type": "code",
   "execution_count": 69,
   "metadata": {
    "scrolled": true
   },
   "outputs": [
    {
     "name": "stdout",
     "output_type": "stream",
     "text": [
      "{'penalty': 'l2', 'C': 0.001}\n",
      "0.9697094038234413\n"
     ]
    }
   ],
   "source": [
    "print(grid.best_params_) #best parameters after cross validation\n",
    "print(grid.best_score_) #best score obtained after hyperparameter optimisation"
   ]
  },
  {
   "cell_type": "markdown",
   "metadata": {},
   "source": [
    "#### 2.Decision Tree"
   ]
  },
  {
   "cell_type": "code",
   "execution_count": 70,
   "metadata": {
    "scrolled": true
   },
   "outputs": [
    {
     "name": "stdout",
     "output_type": "stream",
     "text": [
      "Fitting 3 folds for each of 10 candidates, totalling 30 fits\n"
     ]
    },
    {
     "name": "stderr",
     "output_type": "stream",
     "text": [
      "[Parallel(n_jobs=-1)]: Using backend LokyBackend with 4 concurrent workers.\n",
      "[Parallel(n_jobs=-1)]: Done  30 out of  30 | elapsed:  1.7min finished\n"
     ]
    },
    {
     "data": {
      "text/plain": [
       "RandomizedSearchCV(cv=3, error_score=nan,\n",
       "                   estimator=DecisionTreeClassifier(ccp_alpha=0.0,\n",
       "                                                    class_weight=None,\n",
       "                                                    criterion='gini',\n",
       "                                                    max_depth=None,\n",
       "                                                    max_features=None,\n",
       "                                                    max_leaf_nodes=None,\n",
       "                                                    min_impurity_decrease=0.0,\n",
       "                                                    min_impurity_split=None,\n",
       "                                                    min_samples_leaf=1,\n",
       "                                                    min_samples_split=2,\n",
       "                                                    min_weight_fraction_leaf=0.0,\n",
       "                                                    presort='deprecated',\n",
       "                                                    random_state=42,\n",
       "                                                    splitter='best'),\n",
       "                   iid='deprecated', n_iter=10, n_jobs=-1,\n",
       "                   param_distributions={'criterion': ['entropy', 'gini'],\n",
       "                                        'max_depth': [2, 4, 6, 8, 10],\n",
       "                                        'min_samples_leaf': range(10, 100, 15),\n",
       "                                        'min_samples_split': range(10, 100, 15)},\n",
       "                   pre_dispatch='2*n_jobs', random_state=42, refit=True,\n",
       "                   return_train_score=False, scoring='roc_auc', verbose=True)"
      ]
     },
     "execution_count": 70,
     "metadata": {},
     "output_type": "execute_result"
    }
   ],
   "source": [
    "dt_adasyn=DecisionTreeClassifier(random_state=42)\n",
    "params = {\n",
    "    'max_depth': [2,4,6,8,10],\n",
    "    'min_samples_leaf': range(10, 100, 15),\n",
    "    'min_samples_split': range(10, 100, 15),\n",
    "    'criterion': [\"entropy\", \"gini\"]\n",
    "}\n",
    "\n",
    "grid=RandomizedSearchCV(estimator=dt_adasyn,param_distributions=params,cv=3,verbose=True,scoring='roc_auc',n_jobs=-1,\n",
    "                        random_state=42)\n",
    "grid.fit(X_train_ada,y_train_ada)"
   ]
  },
  {
   "cell_type": "code",
   "execution_count": 71,
   "metadata": {
    "scrolled": true
   },
   "outputs": [
    {
     "name": "stdout",
     "output_type": "stream",
     "text": [
      "{'min_samples_split': 40, 'min_samples_leaf': 40, 'max_depth': 8, 'criterion': 'gini'}\n",
      "0.9427946686711537\n"
     ]
    }
   ],
   "source": [
    "print(grid.best_params_) #best parameters after cross validation\n",
    "print(grid.best_score_) #best score obtained after hyperparameter optimisation"
   ]
  },
  {
   "cell_type": "markdown",
   "metadata": {},
   "source": [
    "#### 3.Random Forest"
   ]
  },
  {
   "cell_type": "code",
   "execution_count": 72,
   "metadata": {
    "scrolled": true
   },
   "outputs": [
    {
     "name": "stdout",
     "output_type": "stream",
     "text": [
      "Fitting 3 folds for each of 10 candidates, totalling 30 fits\n"
     ]
    },
    {
     "name": "stderr",
     "output_type": "stream",
     "text": [
      "[Parallel(n_jobs=-1)]: Using backend LokyBackend with 4 concurrent workers.\n",
      "[Parallel(n_jobs=-1)]: Done  30 out of  30 | elapsed:  7.9min finished\n"
     ]
    },
    {
     "data": {
      "text/plain": [
       "RandomizedSearchCV(cv=3, error_score=nan,\n",
       "                   estimator=RandomForestClassifier(bootstrap=True,\n",
       "                                                    ccp_alpha=0.0,\n",
       "                                                    class_weight=None,\n",
       "                                                    criterion='gini',\n",
       "                                                    max_depth=None,\n",
       "                                                    max_features='auto',\n",
       "                                                    max_leaf_nodes=None,\n",
       "                                                    max_samples=None,\n",
       "                                                    min_impurity_decrease=0.0,\n",
       "                                                    min_impurity_split=None,\n",
       "                                                    min_samples_leaf=1,\n",
       "                                                    min_samples_split=2,\n",
       "                                                    min_weight_fraction_leaf=0.0,\n",
       "                                                    n_estimators=100,\n",
       "                                                    n_jobs...\n",
       "                                                    random_state=42, verbose=0,\n",
       "                                                    warm_start=False),\n",
       "                   iid='deprecated', n_iter=10, n_jobs=-1,\n",
       "                   param_distributions={'max_depth': [2, 4, 6, 8, 10],\n",
       "                                        'max_features': [5, 10, 15, 20, 25],\n",
       "                                        'min_samples_leaf': range(10, 200, 20),\n",
       "                                        'min_samples_split': range(10, 200, 20),\n",
       "                                        'n_estimators': range(5, 30, 5)},\n",
       "                   pre_dispatch='2*n_jobs', random_state=42, refit=True,\n",
       "                   return_train_score=False, scoring='roc_auc', verbose=True)"
      ]
     },
     "execution_count": 72,
     "metadata": {},
     "output_type": "execute_result"
    }
   ],
   "source": [
    "rf_adasyn=RandomForestClassifier(random_state=42)\n",
    "params = {\n",
    "    'max_depth': [2,4,6,8,10],\n",
    "    'min_samples_leaf': range(10, 200, 20),\n",
    "    'min_samples_split': range(10, 200, 20),\n",
    "    'n_estimators': range(5,30,5), \n",
    "    'max_features': [5, 10, 15, 20, 25]\n",
    "}\n",
    "\n",
    "grid=RandomizedSearchCV(estimator=rf_adasyn,param_distributions=params,cv=3,verbose=True,scoring='roc_auc',n_jobs=-1,\n",
    "                        random_state=42)\n",
    "grid.fit(X_train_ada,y_train_ada)"
   ]
  },
  {
   "cell_type": "code",
   "execution_count": 73,
   "metadata": {
    "scrolled": true
   },
   "outputs": [
    {
     "name": "stdout",
     "output_type": "stream",
     "text": [
      "{'n_estimators': 25, 'min_samples_split': 130, 'min_samples_leaf': 110, 'max_features': 15, 'max_depth': 10}\n",
      "0.9884202220902768\n"
     ]
    }
   ],
   "source": [
    "print(grid.best_params_) #best parameters after cross validation\n",
    "print(grid.best_score_) #best score obtained after hyperparameter optimisation"
   ]
  },
  {
   "cell_type": "markdown",
   "metadata": {},
   "source": [
    "#### 4. XGB"
   ]
  },
  {
   "cell_type": "code",
   "execution_count": 74,
   "metadata": {
    "scrolled": true
   },
   "outputs": [
    {
     "name": "stdout",
     "output_type": "stream",
     "text": [
      "Fitting 3 folds for each of 10 candidates, totalling 30 fits\n"
     ]
    },
    {
     "name": "stderr",
     "output_type": "stream",
     "text": [
      "[Parallel(n_jobs=-1)]: Using backend LokyBackend with 4 concurrent workers.\n",
      "[Parallel(n_jobs=-1)]: Done  30 out of  30 | elapsed:  4.3min finished\n"
     ]
    },
    {
     "data": {
      "text/plain": [
       "RandomizedSearchCV(cv=3, error_score=nan,\n",
       "                   estimator=XGBClassifier(base_score=None, booster=None,\n",
       "                                           colsample_bylevel=None,\n",
       "                                           colsample_bynode=None,\n",
       "                                           colsample_bytree=None, gamma=None,\n",
       "                                           gpu_id=None, importance_type='gain',\n",
       "                                           interaction_constraints=None,\n",
       "                                           learning_rate=None,\n",
       "                                           max_delta_step=None, max_depth=None,\n",
       "                                           min_child_weight=None, missing=nan,\n",
       "                                           monotone_constraints=None,\n",
       "                                           n...\n",
       "                   param_distributions={'colsample_bytree': [0.5, 0.7, 0.9],\n",
       "                                        'gamma': [0.0, 0.1, 0.2, 0.3, 0.4],\n",
       "                                        'learning_rate': [0.05, 0.1, 0.15, 0.2,\n",
       "                                                          0.25, 0.3, 0.35],\n",
       "                                        'max_depth': [3, 4, 5, 6, 8, 10, 12,\n",
       "                                                      15],\n",
       "                                        'max_features': range(5, 30, 2),\n",
       "                                        'min_child_weight': [0, 1, 3, 5, 7],\n",
       "                                        'n_estimators': range(5, 30, 2)},\n",
       "                   pre_dispatch='2*n_jobs', random_state=42, refit=True,\n",
       "                   return_train_score=False, scoring='roc_auc', verbose=True)"
      ]
     },
     "execution_count": 74,
     "metadata": {},
     "output_type": "execute_result"
    }
   ],
   "source": [
    "xgb_adasyn=xgb.XGBClassifier(random_state=42,objective ='reg:logistic')\n",
    "params = {\n",
    "    \"learning_rate\"    : [0.05, 0.10, 0.15, 0.20, 0.25, 0.30 , 0.35] ,\n",
    "    \"max_depth\"        : [ 3, 4, 5, 6, 8, 10, 12, 15],\n",
    "    \"min_child_weight\" : [ 0, 1, 3, 5, 7 ],\n",
    "    \"gamma\"            : [ 0.0, 0.1, 0.2 , 0.3, 0.4 ],\n",
    "    \"colsample_bytree\" : [ 0.5 , 0.7, 0.9 ],\n",
    "    'n_estimators'     : range(5,30,2),\n",
    "    'max_features'     : range(5,30,2)\n",
    "     }\n",
    "\n",
    "grid=RandomizedSearchCV(estimator=xgb_adasyn,param_distributions=params,cv=3,verbose=True,scoring='roc_auc',n_jobs=-1,\n",
    "                        random_state=42)\n",
    "grid.fit(X_train_ada,y_train_ada)"
   ]
  },
  {
   "cell_type": "code",
   "execution_count": 75,
   "metadata": {
    "scrolled": true
   },
   "outputs": [
    {
     "name": "stdout",
     "output_type": "stream",
     "text": [
      "{'n_estimators': 21, 'min_child_weight': 5, 'max_features': 7, 'max_depth': 8, 'learning_rate': 0.3, 'gamma': 0.2, 'colsample_bytree': 0.5}\n",
      "0.9919076802380947\n"
     ]
    }
   ],
   "source": [
    "print(grid.best_params_) #best parameters after cross validation\n",
    "print(grid.best_score_) #best score obtained after hyperparameter optimisation"
   ]
  },
  {
   "cell_type": "markdown",
   "metadata": {},
   "source": [
    "### ADASYN Best model: XGBoost"
   ]
  },
  {
   "cell_type": "code",
   "execution_count": 76,
   "metadata": {},
   "outputs": [
    {
     "data": {
      "text/plain": [
       "XGBClassifier(base_score=0.5, booster=None, colsample_bylevel=1,\n",
       "              colsample_bynode=1, colsample_bytree=0.5, gamma=0.2, gpu_id=-1,\n",
       "              importance_type='gain', interaction_constraints=None,\n",
       "              learning_rate=0.3, max_delta_step=0, max_depth=8, max_features=7,\n",
       "              min_child_weight=5, missing=nan, monotone_constraints=None,\n",
       "              n_estimators=21, n_jobs=0, num_parallel_tree=1,\n",
       "              objective='reg:logistic', random_state=42, reg_alpha=0,\n",
       "              reg_lambda=1, scale_pos_weight=1, subsample=1, tree_method=None,\n",
       "              validate_parameters=False, verbosity=None)"
      ]
     },
     "execution_count": 76,
     "metadata": {},
     "output_type": "execute_result"
    }
   ],
   "source": [
    "clf = xgb.XGBClassifier(random_state=42,objective ='reg:logistic', #Creating the best preditive model using SMOTE\n",
    "                        n_estimators= 21, min_child_weight= 5,\n",
    "                        max_features= 7, max_depth= 8, learning_rate= 0.3,\n",
    "                        gamma= 0.2, colsample_bytree= 0.5)\n",
    "\n",
    "clf.fit(X_train_ada,y_train_ada) # fit on the balanced dataset"
   ]
  },
  {
   "cell_type": "code",
   "execution_count": 77,
   "metadata": {},
   "outputs": [
    {
     "data": {
      "text/plain": [
       "array([[84974,   321],\n",
       "       [   29,   119]], dtype=int64)"
      ]
     },
     "execution_count": 77,
     "metadata": {},
     "output_type": "execute_result"
    }
   ],
   "source": [
    "ada_pred=clf.predict(X_test) #Confustion matrix of the best model\n",
    "cm_ada=metrics.confusion_matrix(y_test,ada_pred)\n",
    "cm_ada"
   ]
  },
  {
   "cell_type": "code",
   "execution_count": 78,
   "metadata": {},
   "outputs": [
    {
     "data": {
      "text/plain": [
       "{'Accuracy': 0.9959037018831267,\n",
       " 'Specificity': 0.9962365906559587,\n",
       " 'Sensitivity': 0.8040540540540541,\n",
       " 'Precision': 0.27045454545454545,\n",
       " 'Recall': 0.8040540540540541,\n",
       " 'True Positive Rate': 0.8040540540540541,\n",
       " 'False Positive Rate': 0.003763409344041291,\n",
       " 'F1 Score': 0.40476190476190477}"
      ]
     },
     "execution_count": 78,
     "metadata": {},
     "output_type": "execute_result"
    }
   ],
   "source": [
    "model_metrics(cm_ada) #Model metrics"
   ]
  },
  {
   "cell_type": "code",
   "execution_count": 82,
   "metadata": {},
   "outputs": [
    {
     "name": "stdout",
     "output_type": "stream",
     "text": [
      "Test auc of the ADASYN Model = 0.9001453223550063\n",
      "Train auc of the ADAYSN Model = 0.9919076802380947\n",
      "1\n"
     ]
    }
   ],
   "source": [
    "# Print the FPR,TPR & select the best threshold from the roc curve\n",
    "print('Test auc of the ADASYN Model =', metrics.roc_auc_score(y_test,ada_pred))\n",
    "print('Train auc of the ADAYSN Model = 0.9919076802380947')\n",
    "fpr, tpr, thresholds = metrics.roc_curve(y_test,ada_pred)\n",
    "threshold = thresholds[np.argmax(tpr-fpr)]\n",
    "print(threshold)"
   ]
  },
  {
   "cell_type": "markdown",
   "metadata": {},
   "source": [
    "Best ADASYN Model is having similar results to SMOTE Model;however, slightly worse in terms of AUC score. But since precision is 0.36 here aswell, Random Oversampling XGBoost is still giving the ideal predictive model."
   ]
  },
  {
   "cell_type": "markdown",
   "metadata": {},
   "source": [
    "# Final Best predictive model\n",
    "\n",
    "By comparing the Benchmark model with the best models of the 3 balancing techniques, it was concluded than RandomOversampling XGBoost is the best predictive model, giving the ideal model metrics for the problem at hand."
   ]
  },
  {
   "cell_type": "code",
   "execution_count": 83,
   "metadata": {
    "scrolled": true
   },
   "outputs": [
    {
     "data": {
      "text/plain": [
       "XGBClassifier(base_score=0.5, booster=None, colsample_bylevel=1,\n",
       "              colsample_bynode=1, colsample_bytree=0.5, gamma=0.2, gpu_id=-1,\n",
       "              importance_type='gain', interaction_constraints=None,\n",
       "              learning_rate=0.3, max_delta_step=0, max_depth=8, max_features=7,\n",
       "              min_child_weight=5, missing=nan, monotone_constraints=None,\n",
       "              n_estimators=21, n_jobs=0, num_parallel_tree=1,\n",
       "              objective='reg:logistic', random_state=42, reg_alpha=0,\n",
       "              reg_lambda=1, scale_pos_weight=1, subsample=1, tree_method=None,\n",
       "              validate_parameters=False, verbosity=None)"
      ]
     },
     "execution_count": 83,
     "metadata": {},
     "output_type": "execute_result"
    }
   ],
   "source": [
    "# perform the best oversampling method on X_train & y_train\n",
    "# XGB classifier on random oversampled data is having the best AUC_ROC score on cross-validation.\n",
    "\n",
    "clf = xgb.XGBClassifier(random_state=42,objective ='reg:logistic', #Creating the final preditive model\n",
    "                        n_estimators= 21, min_child_weight= 5,\n",
    "                        max_features= 7, max_depth= 8, learning_rate= 0.3,\n",
    "                        gamma= 0.2, colsample_bytree= 0.5)\n",
    "\n",
    "clf.fit(X_train_ro,y_train_ro) # fit on the balanced dataset"
   ]
  },
  {
   "cell_type": "code",
   "execution_count": 84,
   "metadata": {
    "scrolled": true
   },
   "outputs": [
    {
     "data": {
      "text/plain": [
       "array([[85255,    40],\n",
       "       [   31,   117]], dtype=int64)"
      ]
     },
     "execution_count": 84,
     "metadata": {},
     "output_type": "execute_result"
    }
   ],
   "source": [
    "best_pred=clf.predict(X_test) #Confustion matrix of the best model\n",
    "cm_best=metrics.confusion_matrix(y_test,best_pred)\n",
    "cm_best"
   ]
  },
  {
   "cell_type": "code",
   "execution_count": 85,
   "metadata": {
    "scrolled": true
   },
   "outputs": [
    {
     "data": {
      "text/plain": [
       "{'Accuracy': 0.99916903666772,\n",
       " 'Specificity': 0.9995310393340758,\n",
       " 'Sensitivity': 0.7905405405405406,\n",
       " 'Precision': 0.7452229299363057,\n",
       " 'Recall': 0.7905405405405406,\n",
       " 'True Positive Rate': 0.7905405405405406,\n",
       " 'False Positive Rate': 0.0004689606659241674,\n",
       " 'F1 Score': 0.7672131147540984}"
      ]
     },
     "execution_count": 85,
     "metadata": {},
     "output_type": "execute_result"
    }
   ],
   "source": [
    "model_metrics(cm_best) # Model performance of the best model"
   ]
  },
  {
   "cell_type": "markdown",
   "metadata": {},
   "source": [
    "### Understanding feature importance of the final model"
   ]
  },
  {
   "cell_type": "code",
   "execution_count": 86,
   "metadata": {
    "scrolled": true
   },
   "outputs": [
    {
     "name": "stdout",
     "output_type": "stream",
     "text": [
      "Top var = 14\n",
      "2nd Top var = 13\n",
      "3rd Top var = 16\n"
     ]
    },
    {
     "data": {
      "image/png": "[encoded data removed]",
      "text/plain": [
       "<Figure size 432x360 with 1 Axes>"
      ]
     },
     "metadata": {
      "needs_background": "light"
     },
     "output_type": "display_data"
    }
   ],
   "source": [
    "var_imp = []\n",
    "for i in clf.feature_importances_:\n",
    "    var_imp.append(i)\n",
    "print('Top var =', var_imp.index(np.sort(clf.feature_importances_)[-1])+1) #Print the index of the top variable\n",
    "print('2nd Top var =', var_imp.index(np.sort(clf.feature_importances_)[-2])+1) #Print index of 2nd most imp. variable\n",
    "print('3rd Top var =', var_imp.index(np.sort(clf.feature_importances_)[-3])+1) #Print index of 3rd most imp. variable\n",
    "\n",
    "# Variable on Index-14 and Index-13 seems to be the top 2 variables\n",
    "top_var_index = var_imp.index(np.sort(clf.feature_importances_)[-1])\n",
    "second_top_var_index = var_imp.index(np.sort(clf.feature_importances_)[-2])\n",
    "\n",
    "X_train_1 = X_train.to_numpy()[np.where(y_train==1.0)]\n",
    "X_train_0 = X_train.to_numpy()[np.where(y_train==0.0)]\n",
    "\n",
    "np.random.shuffle(X_train_0)\n",
    "\n",
    "plt.rcParams['figure.figsize'] = [6, 5]\n",
    "\n",
    "plt.scatter(X_train_1[:, top_var_index], X_train_1[:, second_top_var_index], label='Actual Class-1 Examples')\n",
    "plt.scatter(X_train_0[:X_train_1.shape[0], top_var_index], X_train_0[:X_train_1.shape[0], second_top_var_index],\n",
    "            label='Actual Class-0 Examples')\n",
    "plt.legend()\n",
    "\n",
    "plt.show()"
   ]
  },
  {
   "cell_type": "code",
   "execution_count": 87,
   "metadata": {
    "scrolled": true
   },
   "outputs": [
    {
     "data": {
      "image/png": "[encoded data removed]",
      "text/plain": [
       "<Figure size 504x216 with 1 Axes>"
      ]
     },
     "metadata": {
      "needs_background": "light"
     },
     "output_type": "display_data"
    }
   ],
   "source": [
    "# Feature importances for the top 5 features in the best classification model\n",
    "k=pd.DataFrame({'col_name': clf.feature_importances_}, index=X.columns).sort_values(by='col_name',ascending=False).head(5)\n",
    "k.plot(kind='barh',legend=None,figsize=(7,3)).invert_yaxis()\n",
    "plt.show()"
   ]
  },
  {
   "cell_type": "code",
   "execution_count": 89,
   "metadata": {
    "scrolled": true
   },
   "outputs": [
    {
     "name": "stdout",
     "output_type": "stream",
     "text": [
      "Test auc of the Best Model = 0.8950357899373083\n",
      "Train auc of the Best Model = 0.9999509924527077\n",
      "1\n"
     ]
    }
   ],
   "source": [
    "# Print the FPR,TPR & select the best threshold from the roc curve\n",
    "print('Test auc of the Best Model =', metrics.roc_auc_score(y_test,best_pred))\n",
    "print('Train auc of the Best Model = 0.9999509924527077')\n",
    "fpr, tpr, thresholds = metrics.roc_curve(y_test,best_pred)\n",
    "threshold = thresholds[np.argmax(tpr-fpr)]\n",
    "print(threshold)"
   ]
  },
  {
   "cell_type": "markdown",
   "metadata": {},
   "source": [
    "## Conclusion\n",
    "\n",
    "The primary goal of the project was to create a classification model which can help banks to monitor and identify fraudulent credit card trasnactions successfully. Different models were trained to maximize ROC_AUC score to develop the most efficient models that can classify most fraudulent transactions with minimum misclassifications.\n",
    "\n",
    "**Benchmark model was developed using optimized Logistic Regression with L2 regularization on the original unbalanced dataset.**   \n",
    "*Test AUC Score = 0.865*\n",
    "\n",
    "**Final model was developed using XGBoost Classifier on the dataset balanced using Random Oversampling technique.**  \n",
    "*Test AUC Score=  0.895*\n",
    "\n",
    "\n",
    "Since the data is heavily imbalanced, it is more important to accurately predict fraudulent transactions than genuine transactions. More importance is given to Sensitivity (What percentage of total fraudulent transactions are correctly classified) than Precision (Accuracy for predicting fraudulent transactions) because classifying maximum fraudulent cases takes top priority. However, Precision should not be too far off; otherwise it would waste the bank's resources.\n",
    "\n",
    "The final model has the performance metrics:\n",
    "    - Sensitivity/Recall: 0.79  \n",
    "    - Precision: 0.745 \n",
    "\n",
    "*Confusion Matrix*:  \n",
    "\n",
    "                    [85255,    40]  \n",
    "                    [   31,   117]\n",
    "\n",
    "\n",
    "**- Cost Benefit Analysis**\n",
    "\n",
    "*Suppose the following hypothesis:*  \n",
    "1. Benefit of correct fraudulent classification is \\\\$100 (True Positive),  \n",
    "2. Benefit of genuine classification is \\\\$0 (True Negative),  \n",
    "3. Cost of misclassification(False Positive) is \\\\$10 and   \n",
    "4. Opportunity loss (False Negative) is \\\\$100.  \n",
    "\n",
    "Hence the total profit to the bank from the final Confusion Matrix is (85255 x 0 - 40 x 10 + 117 x 100 - 31 x 100) => \\\\$8,200\n",
    "\n",
    "\n",
    "***The final model would be able to guarantee the bank around \\\\$8,200 profit, given the same conditions.***"
   ]
  }
 ],
 "metadata": {
  "colab": {
   "collapsed_sections": [],
   "name": "Untitled.ipynb",
   "provenance": []
  },
  "kernelspec": {
   "display_name": "Python 3",
   "language": "python",
   "name": "python3"
  },
  "language_info": {
   "codemirror_mode": {
    "name": "ipython",
    "version": 3
   },
   "file_extension": ".py",
   "mimetype": "text/x-python",
   "name": "python",
   "nbconvert_exporter": "python",
   "pygments_lexer": "ipython3",
   "version": "3.7.6"
  }
 },
 "nbformat": 4,
 "nbformat_minor": 1
}
